{
  "nbformat": 4,
  "nbformat_minor": 0,
  "metadata": {
    "colab": {
      "name": "Ejercicio.ipynb",
      "provenance": [],
      "authorship_tag": "ABX9TyPk2qCSkKkIgWwGJ+Sg5gi7",
      "include_colab_link": true
    },
    "kernelspec": {
      "name": "python3",
      "display_name": "Python 3"
    },
    "language_info": {
      "name": "python"
    }
  },
  "cells": [
    {
      "cell_type": "markdown",
      "metadata": {
        "id": "view-in-github",
        "colab_type": "text"
      },
      "source": [
        "<a href=\"https://colab.research.google.com/github/AleksIvanVel/Computadoras-y-Programacion/blob/main/Ejercicio.ipynb\" target=\"_parent\"><img src=\"https://colab.research.google.com/assets/colab-badge.svg\" alt=\"Open In Colab\"/></a>"
      ]
    },
    {
      "cell_type": "code",
      "metadata": {
        "id": "Wl_gVwJANyQX"
      },
      "source": [
        "a=int(input(\"Ingresa un valor entero: \"))\n",
        "b=int(input(\"Ingresa otro valor entero diferente: \"))\n",
        "c=int(input(\"Ingresa otro valor entero diferente a los anteriores: \"))\n",
        "\n",
        "if a>b:\n",
        "    if a>c:\n",
        "        if b>c:\n",
        "            print(a, b, c)\n",
        "        else:\n",
        "            print(a, c, b)\n",
        "    else:\n",
        "        print(c, a, b)\n",
        "\n",
        "else:   \n",
        "    if b>c:\n",
        "        if a>c:\n",
        "            print(b, a, c)\n",
        "        else:\n",
        "            print(b, c, a)\n",
        "    else:\n",
        "        print(c, b, a)\n",
        "\n",
        "print(f\"FIN DEL PROGRAMA\")"
      ],
      "execution_count": null,
      "outputs": []
    }
  ]
}