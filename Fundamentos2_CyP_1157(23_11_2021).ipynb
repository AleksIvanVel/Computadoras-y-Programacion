{
  "nbformat": 4,
  "nbformat_minor": 0,
  "metadata": {
    "colab": {
      "name": "Fundamentos2_CyP_1157(23-11-2021).ipynb",
      "provenance": [],
      "authorship_tag": "ABX9TyNSB1lPWY5dQ13dXJxhoOIY",
      "include_colab_link": true
    },
    "kernelspec": {
      "name": "python3",
      "display_name": "Python 3"
    },
    "language_info": {
      "name": "python"
    }
  },
  "cells": [
    {
      "cell_type": "markdown",
      "metadata": {
        "id": "view-in-github",
        "colab_type": "text"
      },
      "source": [
        "<a href=\"https://colab.research.google.com/github/AleksIvanVel/Computadoras-y-Programacion/blob/main/Fundamentos2_CyP_1157(23_11_2021).ipynb\" target=\"_parent\"><img src=\"https://colab.research.google.com/assets/colab-badge.svg\" alt=\"Open In Colab\"/></a>"
      ]
    },
    {
      "cell_type": "markdown",
      "metadata": {
        "id": "4mk2hwiN0r8o"
      },
      "source": [
        "# SELECCION MULTIPLE\n",
        "En python no existe switch\n",
        "se emplea la parlaabra reservada#\n",
        "\n",
        "### elif < condicion >\n",
        "\n",
        "Por ejemplo en lenguaje c y java seria de la forma:\n",
        "\n",
        "float SUE=0.0;\n",
        "int CATE= 0;\n",
        "\n",
        "printf(\"Introduzca la categoria\");\n",
        "scanf(\"%i\", &CATE);\n",
        "printf(\"Introduzca el sueldo\");\n",
        "scanf(%f\", %SUE)\n",
        "\n",
        "switch (CATE)\n",
        "{\n",
        "    case 1:\n",
        "        SUE=SUE*1.15;\n",
        "        break;\n",
        "    case 2:\n",
        "        SUE=SUE*1.10;\n",
        "        break;\n",
        "    case 3:\n",
        "        SUE=SUE*1.08;\n",
        "        break;\n",
        "    case 4:\n",
        "        SUE=SUE*1.07;\n",
        "        break;\n",
        "}\n",
        "printf('Categropia=)%i, Sueldo=%f',CATE,SUE)"
      ]
    },
    {
      "cell_type": "code",
      "metadata": {
        "colab": {
          "base_uri": "https://localhost:8080/"
        },
        "id": "4_5DB7gZ0k66",
        "outputId": "ef8e0a61-62e6-4285-bfdb-37540ecd951c"
      },
      "source": [
        "#ejemplo 2.7\n",
        "\n",
        "NUM = int(input(\"dame un numero entre 1 y 3:\"))\n",
        "V = float(input(\"Dame un valor float:\"))\n",
        "VAL = 0\n",
        "if NUM == 1:\n",
        "    VAL = 100 * V\n",
        "elif NUM == 2:\n",
        "    VAL = 100 ** V\n",
        "elif NUM == 3 :\n",
        "    VAL =100/V\n",
        "else:\n",
        "    VAL = 0\n",
        " \n",
        "print(VAL)"
      ],
      "execution_count": 1,
      "outputs": [
        {
          "output_type": "stream",
          "name": "stdout",
          "text": [
            "dame un numero entre 1 y 3:2\n",
            "Dame un valor float:2.5\n",
            "100000.0\n"
          ]
        }
      ]
    },
    {
      "cell_type": "code",
      "metadata": {
        "id": "YCNVsdVl2sNW"
      },
      "source": [
        "#EJEMPLO 2.8\n",
        "\n",
        "CATE= int(input(\"Ingresa la categoria de tu sueldo 1, 2, 3 o 4: \"))\n",
        "SUE= float(input(\"Ingresa tu sueldo: \"))\n",
        "NSUE=0 \n",
        "\n",
        "if CATE==1:\n",
        "    NSUE= SUE*1.15\n",
        "elif CATE==2:\n",
        "    NSUE= SUE*1.10\n",
        "elif CATE==3:\n",
        "    NSUE= SUE*1.08\n",
        "elif CATE==4:\n",
        "    NSUE= SUE*1.07\n",
        "else:\n",
        "    NSUE=0\n",
        "print(\"La categoria de su sueldo es:\", CATE,\" El sueldo ingresado es:\", SUE, \",  su aumento es: \" )\n",
        "print(NSUE)"
      ],
      "execution_count": null,
      "outputs": []
    },
    {
      "cell_type": "code",
      "metadata": {
        "colab": {
          "base_uri": "https://localhost:8080/"
        },
        "id": "IA7gJvtX5KkL",
        "outputId": "f4182f04-a4f9-48b2-fb7f-be2bc01e2afd"
      },
      "source": [
        "a=int(input(\"Ingresa un valor entero: \"))\n",
        "b=int(input(\"Ingresa otro valor entero diferente: \"))\n",
        "c=int(input(\"Ingresa otro valor entero diferente a los anteriores: \"))\n",
        "\n",
        "if a>b:\n",
        "    if a>c:\n",
        "        if b>c:\n",
        "            print(a, b, c)\n",
        "        else:\n",
        "            print(a, c, b)\n",
        "    else:\n",
        "        print(c, a, b)\n",
        "\n",
        "else:   \n",
        "    if b>c:\n",
        "        if a>c:\n",
        "            print(b, a, c)\n",
        "        else:\n",
        "            print(b, c, a)\n",
        "    else:\n",
        "        print(c, b, a)\n",
        "\n",
        "print(f\"FIN DEL PROGRAMA\")"
      ],
      "execution_count": 12,
      "outputs": [
        {
          "output_type": "stream",
          "name": "stdout",
          "text": [
            "Ingresa un valor entero: 18\n",
            "Ingresa otro valor entero diferente: 20\n",
            "Ingresa otro valor entero diferente a los anteriores: 10\n",
            "20 18 10\n",
            "FIN DEL PROGRAMA\n"
          ]
        }
      ]
    },
    {
      "cell_type": "code",
      "metadata": {
        "id": "eq8rhVYACEDq"
      },
      "source": [
        "#problema 2.14\n",
        "TIPOENF=int(input(\"Introduce el tipo de enfemredad: \"))\n",
        "EDAD=int(input(\"Introduce la edad: \"))\n",
        "DIAS=int(input(\"Introduce el numeor de dias: \"))\n",
        "COSTO= 0.0\n",
        "if TIPOENF==1:\n",
        "    COSTO= DIAS*25.0\n",
        "\n",
        "elif TIPOENF==2:\n",
        "    COSTO= DIAS*16.0\n",
        "elif TIPOENF==3:\n",
        "    COSTO= DIAS*20.0\n",
        "elif TIPOENF==4:\n",
        "    COSTO= DIAS*32.0\n",
        "\n",
        "if EDAD>=14 and EDAD<=22:\n",
        "    COSTO= COSTO* 1.10\n",
        "\n",
        "print(\"Costo total= $\",COSTO)"
      ],
      "execution_count": null,
      "outputs": []
    }
  ]
}