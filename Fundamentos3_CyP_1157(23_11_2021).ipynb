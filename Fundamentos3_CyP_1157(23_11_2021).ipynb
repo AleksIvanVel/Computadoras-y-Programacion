{
  "nbformat": 4,
  "nbformat_minor": 0,
  "metadata": {
    "colab": {
      "name": "Fundamentos3_CyP_1157(23-11-2021).ipynb",
      "provenance": [],
      "authorship_tag": "ABX9TyO/ypwM86Rvvyl8bv56e/JO",
      "include_colab_link": true
    },
    "kernelspec": {
      "name": "python3",
      "display_name": "Python 3"
    },
    "language_info": {
      "name": "python"
    }
  },
  "cells": [
    {
      "cell_type": "markdown",
      "metadata": {
        "id": "view-in-github",
        "colab_type": "text"
      },
      "source": [
        "<a href=\"https://colab.research.google.com/github/AleksIvanVel/Computadoras-y-Programacion/blob/main/Fundamentos3_CyP_1157(23_11_2021).ipynb\" target=\"_parent\"><img src=\"https://colab.research.google.com/assets/colab-badge.svg\" alt=\"Open In Colab\"/></a>"
      ]
    },
    {
      "cell_type": "markdown",
      "metadata": {
        "id": "tmY69D5eFn-0"
      },
      "source": [
        "Repetición:\n",
        "  - Este tipo de estructura nos permite automatizar la ejecución repetitiva de codigo mientras cietras condiuciones se cumplan\n",
        "    - Tenemos 3 variantes de esta estructura:\n",
        "      - Desde....Hasta (Estructura \"for\")\n",
        "      - Haz mientras... (estructura \"While\")\n",
        "      - Haz y luego validas mientras (estructura \"Do-While\")\n",
        "\n",
        "# FOR CON PYTHON\n",
        "```\n",
        "for j in range (10):\n",
        "    print(f\"HOLA {j}\")\n",
        "```\n",
        "\n",
        "# FOR CON leng C y/o Java\n",
        "```\n",
        "for (int j=0 ; j<10 ; j=j+1)\n",
        "{\n",
        "    printf(\"Hola $i\\n\", j);\n",
        "}\n",
        "```\n",
        "\n",
        "En todos los lenguajes de programion existen un tipo especial de for, conocido como *for-each*\n",
        "\n",
        "# For-eac en python\n",
        "```\n",
        "for color in colores:\n",
        "    print(f\"Este es el color {color}\")\n",
        "```"
      ]
    },
    {
      "cell_type": "code",
      "metadata": {
        "colab": {
          "base_uri": "https://localhost:8080/"
        },
        "id": "zpzGMq5pLAzR",
        "outputId": "5811b8c7-159b-4dd1-8592-61aa72882518"
      },
      "source": [
        "    #funciopn range()\n",
        "    #range (<inicio>, <stop>, <ibcremento>)\n",
        "    for j in range(10): # range(0,10)--> 0,1,2,3,4,5,6,7,8,9\n",
        "        print(f\"Hola{j}\")\n",
        "    \n",
        "    print(\"-.-.-.-.-.-.\")\n",
        "\n",
        "    for j in range(0,10,2): # range(0,10)--> 0,2,4,6,8,\n",
        "        print(f\"Hola{j}\")"
      ],
      "execution_count": null,
      "outputs": [
        {
          "output_type": "stream",
          "name": "stdout",
          "text": [
            "Hola0\n",
            "Hola1\n",
            "Hola2\n",
            "Hola3\n",
            "Hola4\n",
            "Hola5\n",
            "Hola6\n",
            "Hola7\n",
            "Hola8\n",
            "Hola9\n",
            "-.-.-.-.-.-.\n",
            "Hola0\n",
            "Hola2\n",
            "Hola4\n",
            "Hola6\n",
            "Hola8\n"
          ]
        }
      ]
    },
    {
      "cell_type": "code",
      "metadata": {
        "id": "9ZbO3Nz8KRsY"
      },
      "source": [
        "frutas= [\"uvas\",\"aguacate\",\"pera\",\"manzana\",\"sandia\"]\n",
        "\n",
        "print(frutas[0])\n",
        "print(frutas[1])\n",
        "print(frutas[2])\n",
        "print(frutas[3])\n",
        "print(frutas[4])\n",
        "\n",
        "print(\"-.-.-.-.-.-.-.\")\n",
        "\n",
        "for index in range(5) :\n",
        "    print(frutas[index])\n",
        "\n",
        "print(\"-.-.-.-.-.-.-.-\")\n",
        "\n",
        "for i in range(5):\n",
        "    print(\"+++++\")\n",
        "\n",
        "print(\"-.-.-.-.-.\")"
      ],
      "execution_count": null,
      "outputs": []
    },
    {
      "cell_type": "markdown",
      "metadata": {
        "id": "7WOznoJ6LTW6"
      },
      "source": [
        "+++++\n",
        "+++++\n",
        "+++++\n",
        "+++++"
      ]
    },
    {
      "cell_type": "code",
      "metadata": {
        "id": "yL5XwvRqL1yg"
      },
      "source": [
        "for x in range(1,20,1):\n",
        "    print(x)\n",
        "print('FIN DEL PROGRAMA')\n",
        "\n",
        "for x in range(19,0,-1):\n",
        "    print(x)\n",
        "print('FIn del programa')\n",
        "\n"
      ],
      "execution_count": null,
      "outputs": []
    },
    {
      "cell_type": "code",
      "metadata": {
        "id": "QCWK4OuDNBHg"
      },
      "source": [
        "CUECER=0\n",
        "NUM=0\n",
        "N= int(input('un valor numerico mayor que 1: '))\n",
        "\n",
        "for I in range(1, N+1, 1):\n",
        "    N= int(input('un valor numerico: '))\n",
        "    if N==0:\n",
        "        CUECER+=1\n",
        "print('cuecer=',CUECER)"
      ],
      "execution_count": null,
      "outputs": []
    },
    {
      "cell_type": "markdown",
      "metadata": {
        "id": "eZ4QrZeDQwAa"
      },
      "source": [
        "Imorime la tabal del 7\n",
        "7 X 1 = 7"
      ]
    },
    {
      "cell_type": "code",
      "metadata": {
        "colab": {
          "base_uri": "https://localhost:8080/"
        },
        "id": "lW-lDW-eQtRf",
        "outputId": "6012fd15-f97a-467f-856d-56f64b708c4c"
      },
      "source": [
        "for i in range(1, 11):\n",
        " print(f\"7 * {i} = \", 7*i)"
      ],
      "execution_count": 15,
      "outputs": [
        {
          "output_type": "stream",
          "name": "stdout",
          "text": [
            "7 * 1 =  7\n",
            "7 * 2 =  14\n",
            "7 * 3 =  21\n",
            "7 * 4 =  28\n",
            "7 * 5 =  35\n",
            "7 * 6 =  42\n",
            "7 * 7 =  49\n",
            "7 * 8 =  56\n",
            "7 * 9 =  63\n",
            "7 * 10 =  70\n"
          ]
        }
      ]
    },
    {
      "cell_type": "markdown",
      "metadata": {
        "id": "GAflx5mqR9-A"
      },
      "source": [
        "dame un numero entre 1 y 5: 2\n",
        "\n",
        "dame un numero entre 2 y 10: 6\n",
        "\n",
        "que imprima la tabla del 2, 3, 4, 5, 6"
      ]
    },
    {
      "cell_type": "code",
      "metadata": {
        "id": "TvbXe02iR4SG"
      },
      "source": [
        "N1=int(input('ingresa un valor entre 1 y 5: '))\n",
        "\n",
        "if N1>0 and N1<6:\n",
        "    N2=int(input(f'ingresa un valor entre el {N1} y 10: '))\n",
        "    if N2>= N1 and N2<11:\n",
        "\n",
        "        for i in range( N1, N2+1):\n",
        "            for j in range(0,11):\n",
        "                print(f\"{i} x {j} = \", i*j)\n",
        "            print('-.-.--.-.-.-')\n",
        "    \n",
        "    else:\n",
        "        print('El valor ingresado no esta dentro del rango')\n",
        "else:\n",
        "    print('El valor ingresado no esta dentro del rango')\n"
      ],
      "execution_count": null,
      "outputs": []
    },
    {
      "cell_type": "code",
      "metadata": {
        "colab": {
          "base_uri": "https://localhost:8080/"
        },
        "id": "4qUgiMtCW955",
        "outputId": "9289bf71-ad51-416d-b34c-857d3c713d32"
      },
      "source": [
        "#generadores de listas\n",
        "\n",
        "numeros=[0,0,0,0,0]\n",
        "print(numeros)\n",
        "numeros=[0 for x in range(5)]\n",
        "print(numeros)\n",
        "\n",
        "numeros= [x for x in range(5)]\n",
        "print (numeros)\n",
        "\n",
        "#lista de 10 en 10 hasta el 100\n",
        "numeros=[(x+1)*10 for x in range(10)]\n",
        "print(numeros)\n",
        "\n",
        "numeros = [ x for x in range(10,101,10) ]\n",
        "print(numeros)\n",
        "\n",
        "numeros=[x*10 for x in range(1,11)]\n",
        "print(numeros)"
      ],
      "execution_count": 30,
      "outputs": [
        {
          "output_type": "stream",
          "name": "stdout",
          "text": [
            "[0, 0, 0, 0, 0]\n",
            "[0, 0, 0, 0, 0]\n",
            "[0, 1, 2, 3, 4]\n",
            "[10, 20, 30, 40, 50, 60, 70, 80, 90, 100]\n",
            "[10, 20, 30, 40, 50, 60, 70, 80, 90, 100]\n",
            "[10, 20, 30, 40, 50, 60, 70, 80, 90, 100]\n"
          ]
        }
      ]
    },
    {
      "cell_type": "code",
      "metadata": {
        "colab": {
          "base_uri": "https://localhost:8080/"
        },
        "id": "dxytdX4BYRy9",
        "outputId": "d49070be-1dc0-4765-b9fa-80d8587ba175"
      },
      "source": [
        "#calcular promedio de edades \n",
        "suma=0\n",
        "edades=[0 for x in range(5)]\n",
        "for x in range(5):\n",
        "    edades[x]=int(input(\"Dame una edad: \"))\n",
        "    suma=suma+edades[x]\n",
        "print(edades)\n",
        "print(\"promedio: \", suma/5)"
      ],
      "execution_count": 41,
      "outputs": [
        {
          "output_type": "stream",
          "name": "stdout",
          "text": [
            "Dame una edad: 14\n",
            "Dame una edad: 18\n",
            "Dame una edad: 20\n",
            "Dame una edad: 5\n",
            "Dame una edad: 36\n",
            "[14, 18, 20, 5, 36]\n",
            "promedio:  18.6\n"
          ]
        }
      ]
    },
    {
      "cell_type": "code",
      "metadata": {
        "colab": {
          "base_uri": "https://localhost:8080/"
        },
        "id": "AuzARVotcNFA",
        "outputId": "6566f8a4-55e5-497c-f7c3-da559bff8127"
      },
      "source": [
        "import random\n",
        "#da un valor random entre 0 y 1\n",
        "print(random.random())\n",
        "#da un valor random entre el parametro que indiquemos (5, 11)\n",
        "print(random.uniform(5, 11))\n",
        "val = round(random.uniform(5,11) , 2)\n",
        "print(val)\n",
        "\n",
        "valores = [round(random.uniform(5,11),2) for x in range(20)]\n",
        "print(valores)\n",
        "#indicar cual es el numero mayor, cual el menor y el promedio de los valores\n",
        "suma=suma+valores[x]\n",
        "if valores[0]>valores[1]:\n",
        "    print(f'el mayor es: {valores[0]}')\n",
        "        \n",
        "    \n"
      ],
      "execution_count": 51,
      "outputs": [
        {
          "output_type": "stream",
          "name": "stdout",
          "text": [
            "0.23153736814984172\n",
            "10.136840981851968\n",
            "8.86\n",
            "[7.28, 6.7, 7.56, 9.98, 8.01, 7.28, 6.68, 9.82, 8.59, 7.38, 6.9, 10.77, 6.37, 8.06, 8.81, 10.78, 10.85, 5.78, 6.2, 5.36]\n",
            "el mayor es: 7.28\n"
          ]
        }
      ]
    }
  ]
}