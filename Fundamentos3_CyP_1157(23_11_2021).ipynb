{
  "nbformat": 4,
  "nbformat_minor": 0,
  "metadata": {
    "colab": {
      "name": "Fundamentos3_CyP_1157(23-11-2021).ipynb",
      "provenance": [],
      "authorship_tag": "ABX9TyMdA8upWxXcxSCp4NN16n+F",
      "include_colab_link": true
    },
    "kernelspec": {
      "name": "python3",
      "display_name": "Python 3"
    },
    "language_info": {
      "name": "python"
    }
  },
  "cells": [
    {
      "cell_type": "markdown",
      "metadata": {
        "id": "view-in-github",
        "colab_type": "text"
      },
      "source": [
        "<a href=\"https://colab.research.google.com/github/AleksIvanVel/Computadoras-y-Programacion/blob/main/Fundamentos3_CyP_1157(23_11_2021).ipynb\" target=\"_parent\"><img src=\"https://colab.research.google.com/assets/colab-badge.svg\" alt=\"Open In Colab\"/></a>"
      ]
    },
    {
      "cell_type": "markdown",
      "metadata": {
        "id": "tmY69D5eFn-0"
      },
      "source": [
        "Repetición:\n",
        "  - Este tipo de estructura nos permite automatizar la ejecución repetitiva de codigo mientras cietras condiuciones se cumplan\n",
        "    - Tenemos 3 variantes de esta estructura:\n",
        "      - Desde....Hasta (Estructura \"for\")\n",
        "      - Haz mientras... (estructura \"While\")\n",
        "      - Haz y luego validas mientras (estructura \"Do-While\")\n",
        "\n",
        "# FOR CON PYTHON\n",
        "```\n",
        "for j in range (10):\n",
        "    print(f\"HOLA {j}\")\n",
        "```\n",
        "\n",
        "# FOR CON leng C y/o Java\n",
        "```\n",
        "for (int j=0 ; j<10 ; j=j+1)\n",
        "{\n",
        "    printf(\"Hola $i\\n\", j);\n",
        "}\n",
        "```\n",
        "\n",
        "En todos los lenguajes de programion existen un tipo especial de for, conocido como *for-each*\n",
        "\n",
        "# For-eac en python\n",
        "```\n",
        "for color in colores:\n",
        "    print(f\"Este es el color {color}\")\n",
        "```"
      ]
    },
    {
      "cell_type": "code",
      "metadata": {
        "colab": {
          "base_uri": "https://localhost:8080/"
        },
        "id": "zpzGMq5pLAzR",
        "outputId": "5811b8c7-159b-4dd1-8592-61aa72882518"
      },
      "source": [
        "    #funciopn range()\n",
        "    #range (<inicio>, <stop>, <ibcremento>)\n",
        "    for j in range(10): # range(0,10)--> 0,1,2,3,4,5,6,7,8,9\n",
        "        print(f\"Hola{j}\")\n",
        "    \n",
        "    print(\"-.-.-.-.-.-.\")\n",
        "\n",
        "    for j in range(0,10,2): # range(0,10)--> 0,2,4,6,8,\n",
        "        print(f\"Hola{j}\")"
      ],
      "execution_count": 9,
      "outputs": [
        {
          "output_type": "stream",
          "name": "stdout",
          "text": [
            "Hola0\n",
            "Hola1\n",
            "Hola2\n",
            "Hola3\n",
            "Hola4\n",
            "Hola5\n",
            "Hola6\n",
            "Hola7\n",
            "Hola8\n",
            "Hola9\n",
            "-.-.-.-.-.-.\n",
            "Hola0\n",
            "Hola2\n",
            "Hola4\n",
            "Hola6\n",
            "Hola8\n"
          ]
        }
      ]
    },
    {
      "cell_type": "code",
      "metadata": {
        "id": "9ZbO3Nz8KRsY"
      },
      "source": [
        "frutas= [\"uvas\",\"aguacate\",\"pera\",\"manzana\",\"sandia\"]\n",
        "\n",
        "print(frutas[0])\n",
        "print(frutas[1])\n",
        "print(frutas[2])\n",
        "print(frutas[3])\n",
        "print(frutas[4])\n",
        "\n",
        "print(\"-.-.-.-.-.-.-.\")\n",
        "\n",
        "for index in range(5) :\n",
        "    print(frutas[index])\n",
        "\n",
        "print(\"-.-.-.-.-.-.-.-\")\n",
        "\n",
        "for i in range(5):\n",
        "    print(\"+++++\")\n",
        "\n",
        "print(\"-.-.-.-.-.\")"
      ],
      "execution_count": null,
      "outputs": []
    },
    {
      "cell_type": "markdown",
      "metadata": {
        "id": "7WOznoJ6LTW6"
      },
      "source": [
        "+++++\n",
        "+++++\n",
        "+++++\n",
        "+++++"
      ]
    }
  ]
}