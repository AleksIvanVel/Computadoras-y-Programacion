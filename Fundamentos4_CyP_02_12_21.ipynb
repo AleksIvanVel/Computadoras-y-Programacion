{
  "nbformat": 4,
  "nbformat_minor": 0,
  "metadata": {
    "colab": {
      "name": "Fundamentos4_CyP_02-12-21.ipynb",
      "provenance": [],
      "collapsed_sections": [
        "s3MbEm-Oa64u",
        "g806n4Tadg_r",
        "MK2MJbmLfg-X",
        "7OwBXRAhfY26",
        "cPACVFCHhX5g",
        "9aAtptbz-Rmq",
        "2-r9AC1PArk9",
        "ayyQ-nEZDddU",
        "kWNZzQ9QG4NW",
        "F4lNHd2FJpjh",
        "NyGG90MRO-YD"
      ],
      "authorship_tag": "ABX9TyPWrV0KmjFmR01COXlf2ahh",
      "include_colab_link": true
    },
    "kernelspec": {
      "name": "python3",
      "display_name": "Python 3"
    },
    "language_info": {
      "name": "python"
    }
  },
  "cells": [
    {
      "cell_type": "markdown",
      "metadata": {
        "id": "view-in-github",
        "colab_type": "text"
      },
      "source": [
        "<a href=\"https://colab.research.google.com/github/AleksIvanVel/Computadoras-y-Programacion/blob/main/Fundamentos4_CyP_02_12_21.ipynb\" target=\"_parent\"><img src=\"https://colab.research.google.com/assets/colab-badge.svg\" alt=\"Open In Colab\"/></a>"
      ]
    },
    {
      "cell_type": "markdown",
      "metadata": {
        "id": "Sx8Nl_ZPUIp1"
      },
      "source": [
        "# Modularidad (funciones)\n",
        "\n",
        "\n",
        "Una funcion es una unidad de codigo reutilizable, a demas de ser un mecanismo para oganizar codigo.\n",
        "\n",
        "La gran ventaja de emplear funciones es simplificar la programación. \n",
        "\n",
        "###Estructura\n",
        "Una funcion puede tomar cualquier cantidad de parametros de entrada (de cualquier tipo) y retornar unicamente un solo valor (de cualquier tipo de dato)\n",
        "\n",
        "Un parametro de entrada es un valor que recibe la funcion para realizar sus operaciones \n",
        "\n",
        "COn una funcion se pueden hacer dos cosas:|\n",
        "1. definirlas\n",
        "2. invocarlas (ejecutarla)\n",
        "\n",
        "la gran ventaja de tener una funcion declarada es que puede reutilizarse "
      ]
    },
    {
      "cell_type": "code",
      "metadata": {
        "id": "gv-dGrM0UC-X"
      },
      "source": [
        "def sumar(op1, op2):\n",
        "    res= op1 + op2\n",
        "    return res "
      ],
      "execution_count": null,
      "outputs": []
    },
    {
      "cell_type": "code",
      "metadata": {
        "colab": {
          "base_uri": "https://localhost:8080/"
        },
        "id": "SCKnNUCUYIvG",
        "outputId": "840f69f2-6f5b-4d5b-8047-e164c8aaadd0"
      },
      "source": [
        "res= sumar (2, 5)\n",
        "print(res)\n",
        "res= sumar(33,22)\n",
        "print(res)"
      ],
      "execution_count": null,
      "outputs": [
        {
          "output_type": "stream",
          "name": "stdout",
          "text": [
            "7\n",
            "55\n"
          ]
        }
      ]
    },
    {
      "cell_type": "code",
      "metadata": {
        "colab": {
          "base_uri": "https://localhost:8080/"
        },
        "id": "gXPlfhKQZwmJ",
        "outputId": "8ef99806-7622-464f-87ac-d36a222683f1"
      },
      "source": [
        "print(\"hola\",\"Ivan\", sep=\"-\")"
      ],
      "execution_count": null,
      "outputs": [
        {
          "output_type": "stream",
          "name": "stdout",
          "text": [
            "hola-Ivan\n"
          ]
        }
      ]
    },
    {
      "cell_type": "code",
      "metadata": {
        "colab": {
          "base_uri": "https://localhost:8080/"
        },
        "id": "BJJ3K82caQ5q",
        "outputId": "03dad980-f041-4dad-f7dd-c97cad8554c0"
      },
      "source": [
        "def imprime_cuadro():\n",
        "    print(\"****\")\n",
        "    print(\"****\")\n",
        "    print(\"****\")\n",
        "    print(\"****\")\n",
        "    # por defecto el lenguaje hace un return \"none\"\n",
        "imprime_cuadro()"
      ],
      "execution_count": null,
      "outputs": [
        {
          "output_type": "stream",
          "name": "stdout",
          "text": [
            "****\n",
            "****\n",
            "****\n",
            "****\n"
          ]
        }
      ]
    },
    {
      "cell_type": "markdown",
      "metadata": {
        "id": "s3MbEm-Oa64u"
      },
      "source": [
        "# Valor de retorno de una función \n",
        "\n",
        "- regla de oro:\n",
        "    una funcion siempre retorna UN SOLO VALOR. incluso si ese valor es el vacio"
      ]
    },
    {
      "cell_type": "code",
      "metadata": {
        "colab": {
          "base_uri": "https://localhost:8080/"
        },
        "id": "oeV7lTfDbLmB",
        "outputId": "85dfc926-7ad9-46b6-bd2b-09c2982cc6bb"
      },
      "source": [
        "# invocar sumar\n",
        "res=sumar(7,8)\n",
        "print(res)\n",
        "# invocar pintar_cuadro\n",
        "res= imprime_cuadro()\n",
        "print(res)"
      ],
      "execution_count": null,
      "outputs": [
        {
          "output_type": "stream",
          "name": "stdout",
          "text": [
            "15\n",
            "****\n",
            "****\n",
            "****\n",
            "****\n",
            "None\n"
          ]
        }
      ]
    },
    {
      "cell_type": "markdown",
      "metadata": {
        "id": "g806n4Tadg_r"
      },
      "source": [
        "# la palabra reservada None en python\n",
        "\n",
        "Esta palabra reservada significa vacio, equivalente a la palabra reservada void en lenguaje C, C++ y java\n",
        "\n",
        "Se usa para indicar ya sea un return vacio o que se recive como parametro un vacio"
      ]
    },
    {
      "cell_type": "code",
      "metadata": {
        "id": "wfxVhcGUd52n"
      },
      "source": [
        "def multiplicar(valor,veces): # PARAMETRO\n",
        "    c=valor*veces\n",
        "    return c"
      ],
      "execution_count": null,
      "outputs": []
    },
    {
      "cell_type": "code",
      "metadata": {
        "colab": {
          "base_uri": "https://localhost:8080/"
        },
        "id": "VgSFBoSseIw_",
        "outputId": "ca13995c-ab64-4dc4-de30-408045808eab"
      },
      "source": [
        "res=multiplicar(5,5) #ARGUMENTO\n",
        "print(res)"
      ],
      "execution_count": null,
      "outputs": [
        {
          "output_type": "stream",
          "name": "stdout",
          "text": [
            "25\n"
          ]
        }
      ]
    },
    {
      "cell_type": "code",
      "metadata": {
        "id": "hDW0tG8hetU9"
      },
      "source": [
        "def multiplicar(valor,veces):\n",
        "    if valor==None:\n",
        "        c=-1\n",
        "    else:\n",
        "        c=valor*veces\n",
        "    return c"
      ],
      "execution_count": null,
      "outputs": []
    },
    {
      "cell_type": "code",
      "metadata": {
        "colab": {
          "base_uri": "https://localhost:8080/"
        },
        "id": "aKChTqlxe3_p",
        "outputId": "bdf2b1bb-759a-4523-9667-c865ff6e7b11"
      },
      "source": [
        "res=multiplicar(None,5)\n",
        "print(res)"
      ],
      "execution_count": null,
      "outputs": [
        {
          "output_type": "stream",
          "name": "stdout",
          "text": [
            "-1\n"
          ]
        }
      ]
    },
    {
      "cell_type": "markdown",
      "metadata": {
        "id": "MK2MJbmLfg-X"
      },
      "source": [
        "# Parametros y argumentos.\n",
        "Son conceptos relacionados y su diferencia esta centrada en el momento que se meplea en una funcion \n",
        "\n",
        "Es deciur, en la funcion usmar de ariba, cuando se declara, se le llama \"PARAMETRO\", y cuando se invoca se llama \"ARGUMENTO\""
      ]
    },
    {
      "cell_type": "markdown",
      "metadata": {
        "id": "0IWgYXIrfg9K"
      },
      "source": [
        ""
      ]
    },
    {
      "cell_type": "markdown",
      "metadata": {
        "id": "7OwBXRAhfY26"
      },
      "source": [
        "# Argumentos posicionales \n",
        "\n",
        "En python es posible determinar a que parametros estan dirigidos los argumentos segun su posición "
      ]
    },
    {
      "cell_type": "code",
      "metadata": {
        "id": "K8_6IxBSgqdY"
      },
      "source": [
        "def dividir(op1,op2):\n",
        "    c=op1/op2\n",
        "    return c"
      ],
      "execution_count": null,
      "outputs": []
    },
    {
      "cell_type": "code",
      "metadata": {
        "colab": {
          "base_uri": "https://localhost:8080/"
        },
        "id": "aKWRekW-g1bq",
        "outputId": "01c8d2da-08e8-470d-870d-c3fb04d09b31"
      },
      "source": [
        "num1=25\n",
        "num2= 5\n",
        "res=dividir(num1,num2)\n",
        "print(res)\n",
        "res=dividir(num2,num1)\n",
        "print(res)"
      ],
      "execution_count": null,
      "outputs": [
        {
          "output_type": "stream",
          "name": "stdout",
          "text": [
            "5.0\n",
            "0.2\n"
          ]
        }
      ]
    },
    {
      "cell_type": "markdown",
      "metadata": {
        "id": "cPACVFCHhX5g"
      },
      "source": [
        "# Argumentos con palabras clave (KEYWORD)\n",
        "\n",
        "Es la posibilidad de indicarle a la funcion el tiempo de ejecucion a que parametro va dirigido un argumento de entrada.\n",
        "\n",
        "Solo disponible en Python"
      ]
    },
    {
      "cell_type": "code",
      "metadata": {
        "colab": {
          "base_uri": "https://localhost:8080/"
        },
        "id": "V6hmADgxhtCI",
        "outputId": "5a35b33e-7090-46cd-f977-7aea74189912"
      },
      "source": [
        "res=dividir(op1=num1,op2=num2)\n",
        "print(res)"
      ],
      "execution_count": null,
      "outputs": [
        {
          "output_type": "stream",
          "name": "stdout",
          "text": [
            "5.0\n"
          ]
        }
      ]
    },
    {
      "cell_type": "code",
      "metadata": {
        "id": "16pMvwDKiTCj"
      },
      "source": [
        "def letra_A(caracter):\n",
        "    print(f\"            {caracter}\")\n",
        "    print(f\"           {caracter} {caracter}\")\n",
        "    print(f\"          {caracter}   {caracter} \")\n",
        "    print(f\"         {caracter} {caracter} {caracter} {caracter}\")\n",
        "    print(f\"        {caracter}       {caracter}\")\n",
        "\n",
        "def letra_L(caracter):\n",
        "    print(f\"            {caracter}\")\n",
        "    print(f\"            {caracter}\")\n",
        "    print(f\"            {caracter}\")\n",
        "    print(f\"            {caracter}\")\n",
        "    print(f\"            {caracter}{caracter}{caracter}\")\n",
        "\n",
        "def letra_E(caracter):\n",
        "    print(f\"            {caracter}{caracter}{caracter}{caracter}{caracter}\")\n",
        "    print(f\"            {caracter}\")\n",
        "    print(f\"            {caracter}{caracter}{caracter}\")\n",
        "    print(f\"            {caracter}\")\n",
        "    print(f\"            {caracter}{caracter}{caracter}{caracter}{caracter}\")\n",
        "\n",
        "def letra_K(caracter):\n",
        "    print(f\"            {caracter}    {caracter}\")\n",
        "    print(f\"            {caracter}   {caracter}\")\n",
        "    print(f\"            {caracter}  {caracter}\")\n",
        "    print(f\"            {caracter}   {caracter}\")\n",
        "    print(f\"            {caracter}    {caracter}\")\n",
        "\n",
        "def letra_S(caracter):\n",
        "    print(f\"            {caracter}{caracter}{caracter}{caracter}{caracter}\")\n",
        "    print(f\"            {caracter}\")\n",
        "    print(f\"            {caracter}{caracter}{caracter}{caracter}{caracter}\")\n",
        "    print(f\"                {caracter}\")\n",
        "    print(f\"            {caracter}{caracter}{caracter}{caracter}{caracter}\")"
      ],
      "execution_count": null,
      "outputs": []
    },
    {
      "cell_type": "code",
      "metadata": {
        "colab": {
          "base_uri": "https://localhost:8080/"
        },
        "id": "SWP8NPXcikv1",
        "outputId": "cd9f6ef5-a587-4f4f-edb0-e59ee96760cb"
      },
      "source": [
        "letra_A('+')\n",
        "print('\\n')\n",
        "letra_L('^^')\n",
        "print('\\n')\n",
        "letra_E('{')\n",
        "print('\\n')\n",
        "letra_K('*')\n",
        "print('\\n')\n",
        "letra_S('*')"
      ],
      "execution_count": null,
      "outputs": [
        {
          "output_type": "stream",
          "name": "stdout",
          "text": [
            "            +\n",
            "           + +\n",
            "          +   + \n",
            "         + + + +\n",
            "        +       +\n",
            "\n",
            "\n",
            "            ^^\n",
            "            ^^\n",
            "            ^^\n",
            "            ^^\n",
            "            ^^^^^^\n",
            "\n",
            "\n",
            "            {{{{{\n",
            "            {\n",
            "            {{{\n",
            "            {\n",
            "            {{{{{\n",
            "\n",
            "\n",
            "            *    *\n",
            "            *   *\n",
            "            *  *\n",
            "            *   *\n",
            "            *    *\n",
            "\n",
            "\n",
            "            *****\n",
            "            *\n",
            "            *****\n",
            "                *\n",
            "            *****\n"
          ]
        }
      ]
    },
    {
      "cell_type": "markdown",
      "source": [
        "# Argumento por defecto\n",
        "\n",
        "Es la capacidad de las funciones de estblercer un valor de defecto (Default)\n",
        "\n",
        "Si no se envia un argumento a dicho peramatro, entonces se asigna el que el progrmador asigno como default."
      ],
      "metadata": {
        "id": "9aAtptbz-Rmq"
      }
    },
    {
      "cell_type": "code",
      "source": [
        "def dividir(op1, op2=2):\n",
        "    c= op1/op2\n",
        "    return c\n",
        "\n",
        "print(dividir( 25 ))"
      ],
      "metadata": {
        "colab": {
          "base_uri": "https://localhost:8080/"
        },
        "id": "ptBgVP1h-g76",
        "outputId": "5857e0cf-6c4f-48b8-a802-880f6c7317f5"
      },
      "execution_count": null,
      "outputs": [
        {
          "output_type": "stream",
          "name": "stdout",
          "text": [
            "12.5\n"
          ]
        }
      ]
    },
    {
      "cell_type": "markdown",
      "source": [
        "Este concepto se púede ejemplificar con la funcion **print** "
      ],
      "metadata": {
        "id": "tRH90ZcS_K9C"
      }
    },
    {
      "cell_type": "code",
      "source": [
        "help(print)"
      ],
      "metadata": {
        "id": "_rY6LoUx_QJf"
      },
      "execution_count": null,
      "outputs": []
    },
    {
      "cell_type": "code",
      "source": [
        "nombre='Jose'\n",
        "edad= 18\n",
        "print(nombre,edad, sep='+-+')\n",
        "print('HOLA', end=' ')\n",
        "print('--------')"
      ],
      "metadata": {
        "colab": {
          "base_uri": "https://localhost:8080/"
        },
        "id": "eOJVPShR_6fy",
        "outputId": "0970f045-ea49-41bf-ff26-62c531499679"
      },
      "execution_count": null,
      "outputs": [
        {
          "output_type": "stream",
          "name": "stdout",
          "text": [
            "Jose+-+18\n",
            "HOLA --------\n"
          ]
        }
      ]
    },
    {
      "cell_type": "markdown",
      "source": [
        "#Ejersicio de Argumento posicionales"
      ],
      "metadata": {
        "id": "2-r9AC1PArk9"
      }
    },
    {
      "cell_type": "code",
      "source": [
        "def comanda(comensal=1,primer='Consome', segundo='Arroz rojo', tercero='Enciladas'):\n",
        "    print(f'El comensal {comensal} quiere: ')\n",
        "    print('\\tEntrada: ',primer)\n",
        "    print('\\tMedio: ',segundo)\n",
        "    print('\\tPlato fuerte: ',tercero)\n",
        "\n",
        "comanda()\n",
        "\n",
        "comanda(3,'Ensalda','Arroz blanco','Esparragos al horno')\n",
        "#podemos asignar la pocision si es que no se encuntra ordenado:\n",
        "comanda(segundo='arroz blanco',tercero='Esparragos al horno',primer='consome',comensal=3)\n"
      ],
      "metadata": {
        "colab": {
          "base_uri": "https://localhost:8080/"
        },
        "id": "awL0GivNA0ET",
        "outputId": "d3f0c2fa-97aa-4f9d-f10a-c01e7b3edb89"
      },
      "execution_count": null,
      "outputs": [
        {
          "output_type": "stream",
          "name": "stdout",
          "text": [
            "El comensal 1 quiere: \n",
            "\tEntrada:  Consome\n",
            "\tMedio:  Arroz rojo\n",
            "\tPlato fuerte:  Enciladas\n",
            "El comensal 3 quiere: \n",
            "\tEntrada:  Ensalda\n",
            "\tMedio:  Arroz blanco\n",
            "\tPlato fuerte:  Esparragos al horno\n",
            "El comensal 3 quiere: \n",
            "\tEntrada:  consome\n",
            "\tMedio:  arroz blanco\n",
            "\tPlato fuerte:  Esparragos al horno\n"
          ]
        }
      ]
    },
    {
      "cell_type": "markdown",
      "source": [
        "# Argumento enviados en grupo en un tupla\n",
        "\n",
        "Esto sirve para enviar multiples argumentos a una funcion empleando un comodin"
      ],
      "metadata": {
        "id": "ayyQ-nEZDddU"
      }
    },
    {
      "cell_type": "code",
      "source": [
        "def mifun(*args):\n",
        "    <cuerpo de la funcion>\n",
        "\n",
        "#el comodin es el asterisco * y va al principio "
      ],
      "metadata": {
        "id": "45pAWypeEL-0"
      },
      "execution_count": null,
      "outputs": []
    },
    {
      "cell_type": "code",
      "source": [
        "def comanda2(*opciones):\n",
        "    print(f'El comesal {opciones[0]} pidio: ')\n",
        "    print('\\tentrada: ',opciones[1])\n",
        "    print('\\tSegundo: ',opciones[2])\n",
        "    print('\\tPlato fuerte: ',opciones[3])\n",
        "    print('Indicaciones extra: ')\n",
        "    for instruccion in opciones[4::]:\n",
        "        print('\\t',instruccion)\n",
        "comanda2(1, 'sopa de fideo', 'Arroz', 'Arrachera','La arrachera que aun se mueva','Postre, una gelatina')\n"
      ],
      "metadata": {
        "colab": {
          "base_uri": "https://localhost:8080/"
        },
        "id": "6B9eQ0GmERry",
        "outputId": "8cec9f9a-0d0a-4eb8-8ecf-c5092da7d97d"
      },
      "execution_count": null,
      "outputs": [
        {
          "output_type": "stream",
          "name": "stdout",
          "text": [
            "El comesal 1 pidio: \n",
            "\tentrada:  sopa de fideo\n",
            "\tSegundo:  Arroz\n",
            "\tPlato fuerte:  Arrachera\n",
            "Indicaciones extra: \n",
            "\n",
            " La arrachera que aun se mueva\n",
            "\n",
            " Postre, una gelatina\n"
          ]
        }
      ]
    },
    {
      "cell_type": "markdown",
      "source": [
        "# Argumento enviados en grupo en un diccionario\n",
        "\n",
        "Es el mismo concepto que el anterior pero usa el comodin ** y se mapea un diccionario"
      ],
      "metadata": {
        "id": "kWNZzQ9QG4NW"
      }
    },
    {
      "cell_type": "code",
      "source": [
        "def comanda3(**opciones):\n",
        "    print(opciones)\n",
        "    print(f\"El comensal {opciones['comensal']} pidio: \")\n",
        "\n",
        "comanda3(segundo=\"arroz blanco\",tercero=\"Esparragos al horno\",primer=\"Ensalada\",comensal=3)\n",
        "\n"
      ],
      "metadata": {
        "colab": {
          "base_uri": "https://localhost:8080/"
        },
        "id": "t0TXxmLZHDa4",
        "outputId": "b3226fb1-251c-4340-932d-c5d743b31147"
      },
      "execution_count": null,
      "outputs": [
        {
          "output_type": "stream",
          "name": "stdout",
          "text": [
            "{'segundo': 'arroz blanco', 'tercero': 'Esparragos al horno', 'primer': 'Ensalada', 'comensal': 3}\n",
            "El comensal 3 pidio: \n"
          ]
        }
      ]
    },
    {
      "cell_type": "code",
      "source": [
        "def comanda3(**opciones):\n",
        "    ops=opciones.keys()\n",
        "    for key in ops:\n",
        "        print(f'{key}={opciones[key]}')\n",
        "\n",
        "comanda3(segundo=\"arroz blanco\",tercero=\"Esparragos al horno\",primer=\"Ensalada\",comensal=3)\n"
      ],
      "metadata": {
        "colab": {
          "base_uri": "https://localhost:8080/"
        },
        "id": "wgxQiUYNJBpD",
        "outputId": "b9853301-e166-453b-8bf6-565ebcd07224"
      },
      "execution_count": null,
      "outputs": [
        {
          "output_type": "stream",
          "name": "stdout",
          "text": [
            "segundo=arroz blanco\n",
            "tercero=Esparragos al horno\n",
            "primer=Ensalada\n",
            "comensal=3\n"
          ]
        }
      ]
    },
    {
      "cell_type": "markdown",
      "source": [
        "# Modularidad y bibliotecas\n",
        "\n",
        "TOdos los lenguajes de programacion tienen la capacidad de compartir codigo entre la comunidad de programadores.\n",
        "\n",
        "para ello, cada lenguaje establece un mecanismo para escribir y compartir bibliotecas"
      ],
      "metadata": {
        "id": "F4lNHd2FJpjh"
      }
    },
    {
      "cell_type": "code",
      "source": [
        "!pip install simple_chalk"
      ],
      "metadata": {
        "id": "cA63rlMvJlnN"
      },
      "execution_count": null,
      "outputs": []
    },
    {
      "cell_type": "code",
      "source": [
        "from simple_chalk import chalk, yellow\n",
        "print(chalk.yellow('Hola en color amarillo'))"
      ],
      "metadata": {
        "colab": {
          "base_uri": "https://localhost:8080/"
        },
        "id": "LyoxxZkZMz5W",
        "outputId": "af47be22-373a-408b-84e1-d90e3ba917f9"
      },
      "execution_count": null,
      "outputs": [
        {
          "output_type": "stream",
          "name": "stdout",
          "text": [
            "\u001b[33mHola en color amarillo\u001b[0m\n"
          ]
        }
      ]
    },
    {
      "cell_type": "code",
      "source": [
        "!cat mi_modulo.py"
      ],
      "metadata": {
        "colab": {
          "base_uri": "https://localhost:8080/"
        },
        "id": "q6tISOLbQbNw",
        "outputId": "7e7cb1cc-79b4-4073-87b1-6114d6b53b90"
      },
      "execution_count": null,
      "outputs": [
        {
          "output_type": "stream",
          "name": "stdout",
          "text": [
            "def sumar(a,b):\r\n",
            "    return a+b\r\n",
            "\r\n",
            "def mi_print(texto, final):\r\n",
            "    print(\"Super:\", texto, end=final)"
          ]
        }
      ]
    },
    {
      "cell_type": "code",
      "source": [
        "import mi_modulo #trae todas las funciones\n",
        "\n",
        "res=mi_modulo.sumar(7,5)\n",
        "print(res)\n",
        "\n",
        "mi_modulo.mi_print('Aleks', '\\n')"
      ],
      "metadata": {
        "colab": {
          "base_uri": "https://localhost:8080/"
        },
        "id": "DOcigaazQvYK",
        "outputId": "02f3c257-dc22-44e1-ab12-20697cd1539a"
      },
      "execution_count": null,
      "outputs": [
        {
          "output_type": "stream",
          "name": "stdout",
          "text": [
            "12\n",
            "Super: Aleks\n"
          ]
        }
      ]
    },
    {
      "cell_type": "code",
      "source": [
        "from mi_modulo import sumar, mi_print #importa funciones en especifico\n",
        "res=sumar(5,3)\n",
        "print(res)\n",
        "mi_print('Aleks','\\n')"
      ],
      "metadata": {
        "colab": {
          "base_uri": "https://localhost:8080/"
        },
        "id": "tykH-rrnR7b5",
        "outputId": "71da4951-dd1f-4150-9e3f-79be78cdccc1"
      },
      "execution_count": null,
      "outputs": [
        {
          "output_type": "stream",
          "name": "stdout",
          "text": [
            "8\n",
            "Super: Aleks\n"
          ]
        }
      ]
    },
    {
      "cell_type": "markdown",
      "source": [
        "#¿Como escribo un modulo o una biblioteca de codigo?\n",
        "\n",
        "Se define en un archivo de biblioteca"
      ],
      "metadata": {
        "id": "NyGG90MRO-YD"
      }
    },
    {
      "cell_type": "markdown",
      "source": [
        "#Manejo de archivos en Python 3\n",
        "\n",
        "- leer archivos\n",
        "- escribir archivos\n",
        "- manipular la informacion leida desde un archivo\n",
        "- formatos de archivo"
      ],
      "metadata": {
        "id": "2hi8J4uZSs6c"
      }
    },
    {
      "cell_type": "code",
      "source": [
        "archivo= open(\"salida.txt\",\"wt\")\n",
        "archivo.write('hola mundo')\n",
        "archivo.close()"
      ],
      "metadata": {
        "id": "jTEHRjypS5hb"
      },
      "execution_count": null,
      "outputs": []
    },
    {
      "cell_type": "code",
      "source": [
        "!cat salida.txt"
      ],
      "metadata": {
        "id": "vYhxyMWRTVxm",
        "outputId": "e0c5ada7-97ff-4117-9b1e-95edf43711a0",
        "colab": {
          "base_uri": "https://localhost:8080/"
        }
      },
      "execution_count": null,
      "outputs": [
        {
          "output_type": "stream",
          "name": "stdout",
          "text": [
            "hola mundo"
          ]
        }
      ]
    },
    {
      "cell_type": "markdown",
      "source": [
        "Para abrir un archivo, ya sea para lectura o escritura, se usa la funcion **open**.\n",
        "\n",
        "open (fileobj, 'XY')\n",
        "\n",
        "donde file object es el nombre del archivo a abrir, y el segundo arguemnto de la funcion estaformado por un par de letras, la primera establece el tipo de apertura del archivo:\n",
        "\n",
        "- **rt** lectur\n",
        "- **wt** escritura\n",
        "- **x** escritura exclusiva, solo en caso de que el archivo no esxista \n",
        "- **a** Append \n",
        "\n",
        "El segundo caracter, indica el formato del archivo:\n",
        "\n",
        "- **t** formato de texto\n",
        "- **b** formato binario\n",
        "\n"
      ],
      "metadata": {
        "id": "_DSZkkxEPrzx"
      }
    },
    {
      "cell_type": "code",
      "source": [
        "archivo = open('ejemplo.txt', 'wt')\n",
        "\n",
        "for x in range(10):\n",
        "    archivo.write('Hola mundo ' + str(x)+\"\\n\")\n",
        "\n",
        "cont= archivo.write(\"otra cosa\")\n",
        "\n",
        "archivo.close()\n",
        "print(\"Caracteres escritos\",cont)"
      ],
      "metadata": {
        "colab": {
          "base_uri": "https://localhost:8080/"
        },
        "id": "ndUORzUFRAJq",
        "outputId": "21b99994-2ea9-41d2-bdfb-4d736d1723ac"
      },
      "execution_count": 11,
      "outputs": [
        {
          "output_type": "stream",
          "name": "stdout",
          "text": [
            "Caracteres escritos 9\n"
          ]
        }
      ]
    },
    {
      "cell_type": "markdown",
      "source": [
        "La funcion **write** escribe datos en un archivo abierto, para ello utliza un cursos (apuntador) al siguiente byte dentro del archivo.\n",
        "\n",
        "Cuando el archivo se abre, se crea este apuntador y se posiciona para moverse de forma automatica cada vez que escribimos. \n",
        "\n",
        "LA funcion **write** regresa un valor entero que indica el numero de caracteres escritos en el archivo "
      ],
      "metadata": {
        "id": "548aJ3s8R4XR"
      }
    },
    {
      "cell_type": "markdown",
      "source": [
        "# Lectura de un archivo:\n",
        "\n",
        "para leer un archivo con programacion se puede emplear una de tres opciones (funciones):\n",
        "\n",
        "1. read() lee tdo el archivo y lo regresa como texto.\n",
        "\n",
        "1. readline() lee una sola linea (hasta encontrar el siguiente caracter \\n) y la regresa como string.\n",
        "\n",
        "1. readlines() lee todo el archivo y lo regresa como una lista de texto separada por saltos de linea.\n"
      ],
      "metadata": {
        "id": "qev4UnMNTQtV"
      }
    },
    {
      "cell_type": "code",
      "source": [
        "!cat ejemplo.txt"
      ],
      "metadata": {
        "colab": {
          "base_uri": "https://localhost:8080/"
        },
        "id": "JqWlcK2rUJt9",
        "outputId": "95603855-f3ab-4982-d390-e47d8ce72236"
      },
      "execution_count": 12,
      "outputs": [
        {
          "output_type": "stream",
          "name": "stdout",
          "text": [
            "Hola mundo 0\n",
            "Hola mundo 1\n",
            "Hola mundo 2\n",
            "Hola mundo 3\n",
            "Hola mundo 4\n",
            "Hola mundo 5\n",
            "Hola mundo 6\n",
            "Hola mundo 7\n",
            "Hola mundo 8\n",
            "Hola mundo 9\n",
            "otra cosa"
          ]
        }
      ]
    },
    {
      "cell_type": "code",
      "source": [
        "archivo1= open(\"ejemplo.txt\", \"rt\" )\n",
        "datos= archivo1.read()\n",
        "separados=datos.split(\"\\n\")\n",
        "print(separados)\n",
        "for index in range(len(separados)):\n",
        "    if index %2==0:\n",
        "        print(separados[index].upper())\n",
        "    else:\n",
        "        print(separados[index].lower())\n",
        "\n",
        "    \n",
        "print(\"-->\",datos,\"<--\")\n"
      ],
      "metadata": {
        "id": "KMbJArhWUUsT"
      },
      "execution_count": null,
      "outputs": []
    },
    {
      "cell_type": "code",
      "source": [
        "archivo2= open(\"ejemplo.txt\", \"rt\")\n",
        "for x in range(11):\n",
        "    if x %2 == 0:\n",
        "        print(archivo2.readline().upper(), end=\"\")\n",
        "    else:\n",
        "        print(archivo2.readline().lower(), end=\"\")"
      ],
      "metadata": {
        "colab": {
          "base_uri": "https://localhost:8080/"
        },
        "id": "furpSzAPYqDL",
        "outputId": "ac7b5b5d-7289-490a-9887-5c29f1b1ccb8"
      },
      "execution_count": 39,
      "outputs": [
        {
          "output_type": "stream",
          "name": "stdout",
          "text": [
            "HOLA MUNDO 0\n",
            "hola mundo 1\n",
            "HOLA MUNDO 2\n",
            "hola mundo 3\n",
            "HOLA MUNDO 4\n",
            "hola mundo 5\n",
            "HOLA MUNDO 6\n",
            "hola mundo 7\n",
            "HOLA MUNDO 8\n",
            "hola mundo 9\n",
            "OTRA COSA"
          ]
        }
      ]
    },
    {
      "cell_type": "code",
      "source": [
        "archivo3= open(\"ejemplo.txt\", \"rt\")\n",
        "linea= archivo3.readlines()\n",
        "print(linea)\n",
        "\n",
        "for texto in linea:\n",
        "    print(texto.rstrip())"
      ],
      "metadata": {
        "colab": {
          "base_uri": "https://localhost:8080/"
        },
        "id": "AB3sUSIgcE9Y",
        "outputId": "3c7f6040-9726-4d20-bcbf-345e8d0a0de2"
      },
      "execution_count": 46,
      "outputs": [
        {
          "output_type": "stream",
          "name": "stdout",
          "text": [
            "['Hola mundo 0\\n', 'Hola mundo 1\\n', 'Hola mundo 2\\n', 'Hola mundo 3\\n', 'Hola mundo 4\\n', 'Hola mundo 5\\n', 'Hola mundo 6\\n', 'Hola mundo 7\\n', 'Hola mundo 8\\n', 'Hola mundo 9\\n', 'otra cosa']\n",
            "Hola mundo 0\n",
            "Hola mundo 1\n",
            "Hola mundo 2\n",
            "Hola mundo 3\n",
            "Hola mundo 4\n",
            "Hola mundo 5\n",
            "Hola mundo 6\n",
            "Hola mundo 7\n",
            "Hola mundo 8\n",
            "Hola mundo 9\n",
            "otra cosa\n"
          ]
        }
      ]
    },
    {
      "cell_type": "code",
      "source": [
        "!cat ejemplo2.txt"
      ],
      "metadata": {
        "colab": {
          "base_uri": "https://localhost:8080/"
        },
        "id": "70AH-RlueyO5",
        "outputId": "cfc16e58-20a4-442e-e075-470b516a3339"
      },
      "execution_count": 50,
      "outputs": [
        {
          "output_type": "stream",
          "name": "stdout",
          "text": [
            "   1   , 2,   3, 4 ,  5 \r\n",
            "      10  , 20 , 30      ,  40\r\n",
            "     100   , 200    , 300\r\n",
            "       \r\n"
          ]
        }
      ]
    },
    {
      "cell_type": "code",
      "source": [
        "archivo4 = open(\"ejemplo2.txt\" , \"rt\")\n",
        "lineas = archivo4.readlines()\n",
        "suma=0\n",
        "print(linea)\n",
        "for lineas in linea[:len(lineas) - 1:]:\n",
        "   for numero in linea.strip().split(','):\n",
        "       suma+=int (numero.strip())\n",
        "print(suma)"
      ],
      "metadata": {
        "colab": {
          "base_uri": "https://localhost:8080/"
        },
        "id": "biFxcZSoisQ-",
        "outputId": "71311e7e-3a41-4d06-e2dd-3519780889c9"
      },
      "execution_count": 101,
      "outputs": [
        {
          "output_type": "stream",
          "name": "stdout",
          "text": [
            "   1   , 2,   3, 4 ,  5 \n",
            "\n",
            "45\n"
          ]
        }
      ]
    },
    {
      "cell_type": "code",
      "source": [
        "archivo4 = open(\"ejemplo2.txt\" , \"rt\")\n",
        "lineas = archivo4.readlines()\n",
        "print(lineas)\n",
        "suma = 0\n",
        "for linea in lineas[: len(lineas)-1 :]:\n",
        "    for numero in linea.strip().split(','):\n",
        "        suma += int( numero.strip() )\n",
        "print(suma)"
      ],
      "metadata": {
        "colab": {
          "base_uri": "https://localhost:8080/"
        },
        "id": "uzgOxFTxj2WI",
        "outputId": "8813a319-3f32-4913-dad7-7de1b05e0347"
      },
      "execution_count": 102,
      "outputs": [
        {
          "output_type": "stream",
          "name": "stdout",
          "text": [
            "['   1   , 2,   3, 4 ,  5 \\n', '      10  , 20 , 30      ,  40\\n', '     100   , 200    , 300\\n', '       \\n']\n",
            "715\n"
          ]
        }
      ]
    }
  ]
}