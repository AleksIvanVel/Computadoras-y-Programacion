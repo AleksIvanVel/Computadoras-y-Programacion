{
  "nbformat": 4,
  "nbformat_minor": 0,
  "metadata": {
    "colab": {
      "name": "Fundamentos4_CyP_02-12-21.ipynb",
      "provenance": [],
      "authorship_tag": "ABX9TyNfq/p7LWp/ou713StJYwST",
      "include_colab_link": true
    },
    "kernelspec": {
      "name": "python3",
      "display_name": "Python 3"
    },
    "language_info": {
      "name": "python"
    }
  },
  "cells": [
    {
      "cell_type": "markdown",
      "metadata": {
        "id": "view-in-github",
        "colab_type": "text"
      },
      "source": [
        "<a href=\"https://colab.research.google.com/github/AleksIvanVel/Computadoras-y-Programacion/blob/main/Fundamentos4_CyP_02_12_21.ipynb\" target=\"_parent\"><img src=\"https://colab.research.google.com/assets/colab-badge.svg\" alt=\"Open In Colab\"/></a>"
      ]
    },
    {
      "cell_type": "markdown",
      "metadata": {
        "id": "Sx8Nl_ZPUIp1"
      },
      "source": [
        "# Modularidad (funciones)\n",
        "\n",
        "\n",
        "Una funcion es una unidad de codigo reutilizable, a demas de ser un mecanismo para oganizar codigo.\n",
        "\n",
        "La gran ventaja de emplear funciones es simplificar la programación. \n",
        "\n",
        "###Estructura\n",
        "Una funcion puede tomar cualquier cantidad de parametros de entrada (de cualquier tipo) y retornar unicamente un solo valor (de cualquier tipo de dato)\n",
        "\n",
        "Un parametro de entrada es un valor que recibe la funcion para realizar sus operaciones \n",
        "\n",
        "COn una funcion se pueden hacer dos cosas:|\n",
        "1. definirlas\n",
        "2. invocarlas (ejecutarla)\n",
        "\n",
        "la gran ventaja de tener una funcion declarada es que puede reutilizarse "
      ]
    },
    {
      "cell_type": "code",
      "metadata": {
        "id": "gv-dGrM0UC-X"
      },
      "source": [
        "def sumar(op1, op2):\n",
        "    res= op1 + op2\n",
        "    return res "
      ],
      "execution_count": 2,
      "outputs": []
    },
    {
      "cell_type": "code",
      "metadata": {
        "colab": {
          "base_uri": "https://localhost:8080/"
        },
        "id": "SCKnNUCUYIvG",
        "outputId": "840f69f2-6f5b-4d5b-8047-e164c8aaadd0"
      },
      "source": [
        "res= sumar (2, 5)\n",
        "print(res)\n",
        "res= sumar(33,22)\n",
        "print(res)"
      ],
      "execution_count": 4,
      "outputs": [
        {
          "output_type": "stream",
          "name": "stdout",
          "text": [
            "7\n",
            "55\n"
          ]
        }
      ]
    },
    {
      "cell_type": "code",
      "metadata": {
        "colab": {
          "base_uri": "https://localhost:8080/"
        },
        "id": "gXPlfhKQZwmJ",
        "outputId": "8ef99806-7622-464f-87ac-d36a222683f1"
      },
      "source": [
        "print(\"hola\",\"Ivan\", sep=\"-\")"
      ],
      "execution_count": 7,
      "outputs": [
        {
          "output_type": "stream",
          "name": "stdout",
          "text": [
            "hola-Ivan\n"
          ]
        }
      ]
    },
    {
      "cell_type": "code",
      "metadata": {
        "colab": {
          "base_uri": "https://localhost:8080/"
        },
        "id": "BJJ3K82caQ5q",
        "outputId": "03dad980-f041-4dad-f7dd-c97cad8554c0"
      },
      "source": [
        "def imprime_cuadro():\n",
        "    print(\"****\")\n",
        "    print(\"****\")\n",
        "    print(\"****\")\n",
        "    print(\"****\")\n",
        "    # por defecto el lenguaje hace un return \"none\"\n",
        "imprime_cuadro()"
      ],
      "execution_count": 8,
      "outputs": [
        {
          "output_type": "stream",
          "name": "stdout",
          "text": [
            "****\n",
            "****\n",
            "****\n",
            "****\n"
          ]
        }
      ]
    },
    {
      "cell_type": "markdown",
      "metadata": {
        "id": "s3MbEm-Oa64u"
      },
      "source": [
        "# Valor de retorno de una función \n",
        "\n",
        "- regla de oro:\n",
        "    una funcion siempre retorna UN SOLO VALOR. incluso si ese valor es el vacio"
      ]
    },
    {
      "cell_type": "code",
      "metadata": {
        "colab": {
          "base_uri": "https://localhost:8080/"
        },
        "id": "oeV7lTfDbLmB",
        "outputId": "85dfc926-7ad9-46b6-bd2b-09c2982cc6bb"
      },
      "source": [
        "# invocar sumar\n",
        "res=sumar(7,8)\n",
        "print(res)\n",
        "# invocar pintar_cuadro\n",
        "res= imprime_cuadro()\n",
        "print(res)"
      ],
      "execution_count": 11,
      "outputs": [
        {
          "output_type": "stream",
          "name": "stdout",
          "text": [
            "15\n",
            "****\n",
            "****\n",
            "****\n",
            "****\n",
            "None\n"
          ]
        }
      ]
    },
    {
      "cell_type": "markdown",
      "metadata": {
        "id": "g806n4Tadg_r"
      },
      "source": [
        "# la palabra reservada None en python\n",
        "\n",
        "Esta palabra reservada significa vacio, equivalente a la palabra reservada void en lenguaje C, C++ y java\n",
        "\n",
        "Se usa para indicar ya sea un return vacio o que se recive como parametro un vacio"
      ]
    },
    {
      "cell_type": "code",
      "metadata": {
        "id": "wfxVhcGUd52n"
      },
      "source": [
        "def multiplicar(valor,veces): # PARAMETRO\n",
        "    c=valor*veces\n",
        "    return c"
      ],
      "execution_count": 12,
      "outputs": []
    },
    {
      "cell_type": "code",
      "metadata": {
        "colab": {
          "base_uri": "https://localhost:8080/"
        },
        "id": "VgSFBoSseIw_",
        "outputId": "ca13995c-ab64-4dc4-de30-408045808eab"
      },
      "source": [
        "res=multiplicar(5,5) #ARGUMENTO\n",
        "print(res)"
      ],
      "execution_count": 13,
      "outputs": [
        {
          "output_type": "stream",
          "name": "stdout",
          "text": [
            "25\n"
          ]
        }
      ]
    },
    {
      "cell_type": "code",
      "metadata": {
        "id": "hDW0tG8hetU9"
      },
      "source": [
        "def multiplicar(valor,veces):\n",
        "    if valor==None:\n",
        "        c=-1\n",
        "    else:\n",
        "        c=valor*veces\n",
        "    return c"
      ],
      "execution_count": 14,
      "outputs": []
    },
    {
      "cell_type": "code",
      "metadata": {
        "colab": {
          "base_uri": "https://localhost:8080/"
        },
        "id": "aKChTqlxe3_p",
        "outputId": "bdf2b1bb-759a-4523-9667-c865ff6e7b11"
      },
      "source": [
        "res=multiplicar(None,5)\n",
        "print(res)"
      ],
      "execution_count": 15,
      "outputs": [
        {
          "output_type": "stream",
          "name": "stdout",
          "text": [
            "-1\n"
          ]
        }
      ]
    },
    {
      "cell_type": "markdown",
      "metadata": {
        "id": "MK2MJbmLfg-X"
      },
      "source": [
        "# Parametros y argumentos.\n",
        "Son conceptos relacionados y su diferencia esta centrada en el momento que se meplea en una funcion \n",
        "\n",
        "Es deciur, en la funcion usmar de ariba, cuando se declara, se le llama \"PARAMETRO\", y cuando se invoca se llama \"ARGUMENTO\""
      ]
    },
    {
      "cell_type": "markdown",
      "metadata": {
        "id": "0IWgYXIrfg9K"
      },
      "source": [
        ""
      ]
    },
    {
      "cell_type": "markdown",
      "metadata": {
        "id": "7OwBXRAhfY26"
      },
      "source": [
        "# Argumentos posicionales \n",
        "\n",
        "En python es posible determinar a que parametros estan dirigidos los argumentos segun su posición "
      ]
    },
    {
      "cell_type": "code",
      "metadata": {
        "id": "K8_6IxBSgqdY"
      },
      "source": [
        "def dividir(op1,op2):\n",
        "    c=op1/op2\n",
        "    return c"
      ],
      "execution_count": 18,
      "outputs": []
    },
    {
      "cell_type": "code",
      "metadata": {
        "colab": {
          "base_uri": "https://localhost:8080/"
        },
        "id": "aKWRekW-g1bq",
        "outputId": "01c8d2da-08e8-470d-870d-c3fb04d09b31"
      },
      "source": [
        "num1=25\n",
        "num2= 5\n",
        "res=dividir(num1,num2)\n",
        "print(res)\n",
        "res=dividir(num2,num1)\n",
        "print(res)"
      ],
      "execution_count": 20,
      "outputs": [
        {
          "output_type": "stream",
          "name": "stdout",
          "text": [
            "5.0\n",
            "0.2\n"
          ]
        }
      ]
    },
    {
      "cell_type": "markdown",
      "metadata": {
        "id": "cPACVFCHhX5g"
      },
      "source": [
        "# Argumentos con palabras clave (KEYWORD)\n",
        "\n",
        "Es la posibilidad de indicarle a la funcion el tiempo de ejecucion a que parametro va dirigido un argumento de entrada.\n",
        "\n",
        "Solo disponible en Python"
      ]
    },
    {
      "cell_type": "code",
      "metadata": {
        "colab": {
          "base_uri": "https://localhost:8080/"
        },
        "id": "V6hmADgxhtCI",
        "outputId": "5a35b33e-7090-46cd-f977-7aea74189912"
      },
      "source": [
        "res=dividir(op1=num1,op2=num2)\n",
        "print(res)"
      ],
      "execution_count": 22,
      "outputs": [
        {
          "output_type": "stream",
          "name": "stdout",
          "text": [
            "5.0\n"
          ]
        }
      ]
    },
    {
      "cell_type": "code",
      "metadata": {
        "id": "16pMvwDKiTCj"
      },
      "source": [
        "def letra_A(caracter):\n",
        "    print(f\"            {caracter}\")\n",
        "    print(f\"           {caracter} {caracter}\")\n",
        "    print(f\"          {caracter} {caracter} {caracter}\")\n",
        "    print(f\"         {caracter}     {caracter}\")\n",
        "    print(f\"        {caracter}       {caracter}\")\n",
        "\n",
        "def letra_L(caracter):\n",
        "    print(f\"            {caracter}\")\n",
        "    print(f\"            {caracter}\")\n",
        "    print(f\"            {caracter}\")\n",
        "    print(f\"            {caracter}\")\n",
        "    print(f\"            {caracter}{caracter}{caracter}\")"
      ],
      "execution_count": 48,
      "outputs": []
    },
    {
      "cell_type": "code",
      "metadata": {
        "colab": {
          "base_uri": "https://localhost:8080/"
        },
        "id": "SWP8NPXcikv1",
        "outputId": "9f0700fa-125d-47e4-c995-379662501f11"
      },
      "source": [
        "letra_A('+')\n",
        "letra_L('^^')"
      ],
      "execution_count": 49,
      "outputs": [
        {
          "output_type": "stream",
          "name": "stdout",
          "text": [
            "            +\n",
            "           + +\n",
            "          + + +\n",
            "         +     +\n",
            "        +       +\n",
            "            ^^\n",
            "            ^^\n",
            "            ^^\n",
            "            ^^\n",
            "            ^^^^^^\n"
          ]
        }
      ]
    }
  ]
}