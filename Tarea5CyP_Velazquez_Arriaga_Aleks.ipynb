{
  "nbformat": 4,
  "nbformat_minor": 0,
  "metadata": {
    "colab": {
      "name": "Tarea5CyP_Velazquez_Arriaga_Aleks.ipynb",
      "provenance": [],
      "authorship_tag": "ABX9TyPhPFn7oy1+ah8LBzWqJM12",
      "include_colab_link": true
    },
    "kernelspec": {
      "name": "python3",
      "display_name": "Python 3"
    },
    "language_info": {
      "name": "python"
    }
  },
  "cells": [
    {
      "cell_type": "markdown",
      "metadata": {
        "id": "view-in-github",
        "colab_type": "text"
      },
      "source": [
        "<a href=\"https://colab.research.google.com/github/AleksIvanVel/Computadoras-y-Programacion/blob/main/Tarea5CyP_Velazquez_Arriaga_Aleks.ipynb\" target=\"_parent\"><img src=\"https://colab.research.google.com/assets/colab-badge.svg\" alt=\"Open In Colab\"/></a>"
      ]
    },
    {
      "cell_type": "code",
      "metadata": {
        "colab": {
          "base_uri": "https://localhost:8080/"
        },
        "id": "OuhKJuLDpx-Z",
        "outputId": "6aa03423-05ab-4b97-ded7-f920d08288b8"
      },
      "source": [
        "#1.hacer un progrma que pida dos numeros enteros y que imprima en pantalla los siguiente \n",
        "\n",
        "\"\"\"1. cual de ellos es el numero mayor\n",
        "2. cual de ellos es el numero menor \n",
        "o en su defecto \n",
        "imprimir que los valores son iguales\"\"\"\n",
        "\n",
        "num1= int(input(\"Ingresa un umero entero: \"))\n",
        "\n",
        "num2= int(input(\"Ingresa otro numero entero: \"))\n",
        "\n",
        "if num1 == num2:\n",
        "    print(num1,\" es igual a\", num2)\n",
        "elif num1<num2:\n",
        "    print(num2, \"es mayor a\", num1)\n",
        "else:\n",
        "    print(num1, \"es mayor a\", num2)\n",
        "    "
      ],
      "execution_count": 9,
      "outputs": [
        {
          "output_type": "stream",
          "name": "stdout",
          "text": [
            "Ingresa un umero entero: 2\n",
            "ingresa otro numero entero: 2\n",
            "2  es igual a 2\n"
          ]
        }
      ]
    },
    {
      "cell_type": "code",
      "metadata": {
        "colab": {
          "base_uri": "https://localhost:8080/"
        },
        "id": "vgihDYtosoJ0",
        "outputId": "84b1cd51-e48a-49f4-fba3-56685f1c2f09"
      },
      "source": [
        "#2. Hacer un programa que solicite 3 números enteros diferentes entre sí y que imprima cuál de los 3 es el mayor\n",
        "\n",
        "print(\"Ingresa tres numeros enteros diferentes....\")\n",
        "num1= int(input(\"Ingresa el primer numero entero: \"))\n",
        "num2= int(input(\"Ingresa el segundo numero entero: \"))\n",
        "num3= int(input(\"Ingresa el tercer umero entero: \"))\n",
        "print(\"los numeros que tecleaste fueron\", num1,\",\", num2,\",\", num3)\n",
        "\n",
        "if num1>num2:\n",
        "    if num1>num3:\n",
        "        print(num1, \"es mayor a \", num2, \"y\", num3)\n",
        "    else:\n",
        "        print(num3, \"es mayor a\", num2, \"y\", num1)\n",
        "elif num2>num1:\n",
        "    if num2>num3:\n",
        "        print(num2, \"es mayor a \", num1, \"y\", num3)\n",
        "    else:\n",
        "        print(num3, \"es mayor a\", num2, \"y\", num1)\n",
        "\n",
        "\n"
      ],
      "execution_count": 37,
      "outputs": [
        {
          "output_type": "stream",
          "name": "stdout",
          "text": [
            "Ingresa tres numeros enterso diferentes....\n",
            "Ingresa el primer numero entero: 25\n",
            "Ingresa el segundo numero entero: 18\n",
            "Ingresa el tercer umero entero: 36\n",
            "los numeros que tecleaste fueron 25 , 18 , 36\n",
            "36 es mayor a 18 y 25\n"
          ]
        }
      ]
    },
    {
      "cell_type": "code",
      "metadata": {
        "colab": {
          "base_uri": "https://localhost:8080/"
        },
        "id": "ze-zUnA0wHxh",
        "outputId": "c41fd4e8-1060-4e7f-c9b3-ecb67a1f5210"
      },
      "source": [
        "#3. Hacer un programa que solicite 3 números enteros diferentes entre sí y que imprima cuál de los 3 es el menor\n",
        "\n",
        "print(\"Ingresa tres numeros enteros diferentes....\")\n",
        "num1= int(input(\"Ingresa el primer numero entero: \"))\n",
        "num2= int(input(\"Ingresa el segundo numero entero: \"))\n",
        "num3= int(input(\"Ingresa el tercer umero entero: \"))\n",
        "print(\"los numeros que tecleaste fueron\", num1,\",\", num2,\",\", num3)\n",
        "\n",
        "if num1<num2:\n",
        "    if num1<num3:\n",
        "        print(num1, \"es menor a \", num2, \"y\", num3)\n",
        "    else:\n",
        "        print(num3, \"es menor a\", num2, \"y\", num1)\n",
        "elif num2<num1:\n",
        "    if num2<num3:\n",
        "        print(num2, \"es menor a \", num1, \"y\", num3)\n",
        "    else:\n",
        "        print(num3, \"es menor a\", num2, \"y\", num1)"
      ],
      "execution_count": 40,
      "outputs": [
        {
          "output_type": "stream",
          "name": "stdout",
          "text": [
            "Ingresa tres numeros enterso diferentes....\n",
            "Ingresa el primer numero entero: 45\n",
            "Ingresa el segundo numero entero: 62\n",
            "Ingresa el tercer umero entero: 79\n",
            "los numeros que tecleaste fueron 45 , 62 , 79\n",
            "45 es menor a  62 y 79\n"
          ]
        }
      ]
    },
    {
      "cell_type": "code",
      "metadata": {
        "colab": {
          "base_uri": "https://localhost:8080/"
        },
        "id": "fpJZZ1eww584",
        "outputId": "5472c6b4-0558-4d65-831b-d9ff3289456e"
      },
      "source": [
        "#4. Hacer un programa que solicite 4 números enteros diferentes entre sí y que imprima a la salida cuál de ellos es el menor y cuál de ellos es el mayor\n",
        "\n",
        "print(\"Ingresa cuatro numeros enteros diferentes....\")\n",
        "num1= int(input(\"Ingresa el primer numero entero: \"))\n",
        "num2= int(input(\"Ingresa el segundo numero entero: \"))\n",
        "num3= int(input(\"Ingresa el tercer umero entero: \"))\n",
        "num4= int(input(\"Ingresa el cuarto umero entero: \"))\n",
        "print(\"los numeros que tecleaste fueron\", num1,\",\", num2,\",\", num3, \"y\", num4)\n",
        "\n",
        "if num1>num2 and num1>num3 and num1>num4:\n",
        "    print(num1, \"es el mayor\")\n",
        " \n",
        "else:\n",
        "    if num2>num3 and num2>num4:\n",
        "        print(num2, \"es el mayor\")\n",
        "    else:\n",
        "        if num3>num4:\n",
        "            print(num3, \"es el mayor\")\n",
        "        else:\n",
        "            print(num4, \"es el mayor\")\n",
        "\n",
        "if num1<num2 and num1<num3 and num1<num4:\n",
        "    print(num1, \"es el el menor\")\n",
        " \n",
        "else:\n",
        "    if num2<num3 and num2<num4:\n",
        "        print(num2, \"es el menor\")\n",
        "    else:\n",
        "        if num3<num4:\n",
        "            print(num3, \"es el menor\")\n",
        "        else:\n",
        "            print(num4, \"es el menor\")\n",
        "       "
      ],
      "execution_count": 64,
      "outputs": [
        {
          "output_type": "stream",
          "name": "stdout",
          "text": [
            "Ingresa cuatro numeros enteros diferentes....\n",
            "Ingresa el primer numero entero: 1\n",
            "Ingresa el segundo numero entero: 4\n",
            "Ingresa el tercer umero entero: 3\n",
            "Ingresa el cuarto umero entero: 2\n",
            "los numeros que tecleaste fueron 1 , 4 , 3 y 2\n",
            "4 es el mayor\n",
            "1 es el el menor\n"
          ]
        }
      ]
    }
  ]
}