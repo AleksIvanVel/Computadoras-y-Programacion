{
  "nbformat": 4,
  "nbformat_minor": 0,
  "metadata": {
    "colab": {
      "name": "Tarea6_Velazquez_Arriaga_Aleks_CyP.ipynb",
      "provenance": [],
      "collapsed_sections": [],
      "authorship_tag": "ABX9TyOKZM7Q+BHhrVQfePQ4XtZd",
      "include_colab_link": true
    },
    "kernelspec": {
      "name": "python3",
      "display_name": "Python 3"
    },
    "language_info": {
      "name": "python"
    }
  },
  "cells": [
    {
      "cell_type": "markdown",
      "metadata": {
        "id": "view-in-github",
        "colab_type": "text"
      },
      "source": [
        "<a href=\"https://colab.research.google.com/github/AleksIvanVel/Computadoras-y-Programacion/blob/main/Tarea6_Velazquez_Arriaga_Aleks_CyP.ipynb\" target=\"_parent\"><img src=\"https://colab.research.google.com/assets/colab-badge.svg\" alt=\"Open In Colab\"/></a>"
      ]
    },
    {
      "cell_type": "markdown",
      "metadata": {
        "id": "HATleZdz63SY"
      },
      "source": [
        "#Tarea 6\n",
        "###Velazquez Arriaga Aleks Ivan\n",
        "###Grupo: 1157\n",
        "###CyP"
      ]
    },
    {
      "cell_type": "code",
      "metadata": {
        "colab": {
          "base_uri": "https://localhost:8080/"
        },
        "id": "zY0szbHSIQOM",
        "outputId": "6364af9e-d64d-47be-beaa-56675eccd204"
      },
      "source": [
        "#problema 2.1 \n",
        "\n",
        "N= int(input(\"Numero de ruidos emitidos por el grillo: \"))\n",
        "T=0.0\n",
        "if N>0:\n",
        "    T= N/4 + 40\n",
        "    print(f\"La temperatura es {T}°\")\n",
        "print(\"FIN DEL PROGRAMA\")"
      ],
      "execution_count": null,
      "outputs": [
        {
          "output_type": "stream",
          "name": "stdout",
          "text": [
            "Numero de ruidos emitidos por el grillo: 48\n",
            "La temperatura es 52.0\n",
            "FIN DEL PROGRAMA\n"
          ]
        }
      ]
    },
    {
      "cell_type": "code",
      "metadata": {
        "colab": {
          "base_uri": "https://localhost:8080/"
        },
        "id": "RiOoMcAnJ4T6",
        "outputId": "d23de383-04aa-484c-bc69-c6f88e72fd5a"
      },
      "source": [
        "#problema 2.2\n",
        "\n",
        "P= int(input(\"Ingresa un numero entero: \"))\n",
        "Q= int(input(\"Ingresa otro numero entrero: \"))\n",
        "\n",
        "\n",
        "EP= pow(P, 3)+ pow(Q, 4) - 2*pow(P, 2)\n",
        "if EP<680:\n",
        "    print(f\"Los numeros ingresados son {P} y {Q}, el resultado al hacer {P}^3+{Q}^4-2*{P}^2 es: {EP}\")\n",
        "\n",
        "print(\"FIN DEL PROGRAMA\")\n"
      ],
      "execution_count": null,
      "outputs": [
        {
          "output_type": "stream",
          "name": "stdout",
          "text": [
            "Ingresa un numero entero: 1\n",
            "Ingresa otro numero entrero: 3\n",
            "Los numeros ingresados son 1 y 3, el resultado al hacer 1^3+3^4-2*1^2 es: 80\n"
          ]
        }
      ]
    },
    {
      "cell_type": "code",
      "metadata": {
        "id": "h4m019DWM8VJ"
      },
      "source": [
        "# problema 2.3\n",
        "\n",
        "print(\"Solución de una ecuacion cuadratica de tipo ax^2+bx+c\")\n",
        "A= float(input(\"Ingresa le coefcioente del termino cuadratico (ax^2)\"))\n",
        "B= float(input(\"Ingresa el coeficiente del termino lineal (bx)\"))\n",
        "C= float(input(\"Ingresa el temrino independiente (c)\"))\n",
        "DIS=0.0\n",
        "X1=0.0\n",
        "x2=0.0\n",
        "\n",
        "DIS= pow(B, 2)-(4*A*C)\n",
        "if DIS>0:\n",
        "    X1= ((-B+pow(DIS, 0.5))/2*A)\n",
        "    X2= ((-B-pow(DIS, 0.5))/2*A)\n",
        "    print(f\"Las raices reales son {X1} y {X2}\")\n",
        "print(\"FIN DEL PROGRAMA\")"
      ],
      "execution_count": null,
      "outputs": []
    },
    {
      "cell_type": "code",
      "metadata": {
        "colab": {
          "base_uri": "https://localhost:8080/"
        },
        "id": "0D8Km3vgPS4y",
        "outputId": "ed2faa76-c9bc-4305-e06d-2fae6ec530e9"
      },
      "source": [
        "# problema 2.4\n",
        "\n",
        "MAT= int(input(\"Ingresa tu matricula: \"))\n",
        "cal1= float(input(\"Ingresa la primera calificación: \"))\n",
        "cal2= float(input(\"Ingresa la segunda calificación: \"))\n",
        "cal3= float(input(\"Ingresa la tercera calificación: \"))\n",
        "cal4= float(input(\"Ingresa la cuarta calificación: \"))\n",
        "cal5= float(input(\"Ingresa la quinta calificación: \"))\n",
        "PROM=0.0\n",
        "\n",
        "PROM= (cal1 + cal2 + cal3 + cal4 + cal5)/5\n",
        "\n",
        "if PROM>=6:\n",
        "    print(f'Su promedio es: {PROM}, aprobado')\n",
        "else:\n",
        "    print(f'Su promedio es: {PROM}, no aprobado')\n"
      ],
      "execution_count": null,
      "outputs": [
        {
          "output_type": "stream",
          "name": "stdout",
          "text": [
            "Ingresa tu matricula: 16500\n",
            "Ingresa la primera calificación: 6\n",
            "Ingresa la segunda calificación: 7.50\n",
            "Ingresa la tercera calificación: 8\n",
            "Ingresa la cuarta calificación: 9.50\n",
            "Ingresa la quinta calificación: 7\n",
            "Su promedio es: 7.6, aprobado\n"
          ]
        }
      ]
    },
    {
      "cell_type": "code",
      "metadata": {
        "id": "rjqrzK9mVYkU"
      },
      "source": [
        "# problema 2.5\n",
        "\n",
        "NUM= int(input('Ingresa un numero entero para verificar si es positivo, negativo o nulo: '))\n",
        "if NUM>0:\n",
        "    print(f'El numero {NUM} es positivo')\n",
        "else:\n",
        "    if NUM==0:\n",
        "        print(f'El numero {NUM} es nulo')\n",
        "    else:\n",
        "        print(f'El numero {NUM} es negativo')\n",
        "print('FIN DEL PROGRAMA')"
      ],
      "execution_count": null,
      "outputs": []
    },
    {
      "cell_type": "code",
      "metadata": {
        "id": "7M6xenSAW2gL"
      },
      "source": [
        "# problema 2.6\n",
        "\n",
        "NUM= int(input('Ingresa un numero entero para verificar si es par, impar o nulo: '))\n",
        "if NUM==0:\n",
        "    print(f'El numero {NUM} es nulo')\n",
        "else:\n",
        "    if pow(-1, NUM)>0:\n",
        "        print(f'El numero {NUM} es par')\n",
        "    else:\n",
        "        print(f'El numero {NUM} es impar')\n",
        "print('FIN DEL PROGRAMA')"
      ],
      "execution_count": null,
      "outputs": []
    },
    {
      "cell_type": "code",
      "metadata": {
        "colab": {
          "base_uri": "https://localhost:8080/"
        },
        "id": "wUkQ2d8uZXA3",
        "outputId": "e275e7db-5344-4a00-bd75-5f69eb8e619c"
      },
      "source": [
        "# problema 2.7\n",
        "\n",
        "a= int(input('Ingresa un numero entero: '))\n",
        "b= int(input('Ingresa otro numero entero: '))\n",
        "c= int(input('Ingresa otro numero entero diferente: '))\n",
        "\n",
        "if a<b:\n",
        "    if b<c:\n",
        "        print('Los numeros estan en orden creciente')\n",
        "    else:\n",
        "        print('Los numeros no estan en orden creciente')\n",
        "else: \n",
        "    print('Los numeros no 3estan en orden creciente')\n",
        "\n",
        "print('FIN DEL PROGRAMA')"
      ],
      "execution_count": null,
      "outputs": [
        {
          "output_type": "stream",
          "name": "stdout",
          "text": [
            "Ingresa un numero entero: 2\n",
            "Ingresa otro numero entero: 4\n",
            "Ingresa otro numero entero diferente: 6\n",
            "Los numeros estan en orden creciente\n"
          ]
        }
      ]
    },
    {
      "cell_type": "code",
      "metadata": {
        "id": "ifgM65IHcF2J"
      },
      "source": [
        "# prolema 2.8\n",
        "\n",
        "compra= float(input('Ingresa el precio del producto: '))\n",
        "if compra<500:\n",
        "    pagar= compra\n",
        "else:\n",
        "    if compra<=1000:\n",
        "        pagar= compra-(compra*0.05)\n",
        "    else:\n",
        "        if compra<= 7000:\n",
        "            pagar= compra-(compra*0.11)\n",
        "        else:\n",
        "            if compra<=15000:\n",
        "                pagar= compra-(compra*0.18)\n",
        "            else:\n",
        "                pagar= compra-(compra*0.25)\n",
        "print(f'El precio total a  pagar es {pagar}')"
      ],
      "execution_count": null,
      "outputs": []
    },
    {
      "cell_type": "code",
      "metadata": {
        "colab": {
          "base_uri": "https://localhost:8080/"
        },
        "id": "HaOrMWT4ra81",
        "outputId": "2ffd22c2-64a1-4de8-81d0-b6b3fcbd6a7c"
      },
      "source": [
        "# problema 2.9 \n",
        "\n",
        "PREBAS=float(input('Ingresa el precio del producto: '))\n",
        "IMP=0.0\n",
        "PRETOT=0.0\n",
        "\n",
        "if PREBAS>500:\n",
        "    IMP=20*0.30+(PREBAS-40)*0.50\n",
        "else:\n",
        "    if PREBAS>40:\n",
        "       IMP=20*0.30+(PREBAS-40)*0.40\n",
        "    else:\n",
        "        if PREBAS>20:\n",
        "            IMP=(PREBAS-20)*0.30\n",
        "        else:\n",
        "            IMP=0\n",
        "PRETOT=PREBAS+IMP\n",
        "print(f'El precio basico es: {PREBAS} y el precio total es: {PRETOT}')"
      ],
      "execution_count": 2,
      "outputs": [
        {
          "output_type": "stream",
          "name": "stdout",
          "text": [
            "Ingresa el precio del producto: 500\n",
            "El precio basico es:500.0 y el precio total es:690.0\n"
          ]
        }
      ]
    },
    {
      "cell_type": "code",
      "metadata": {
        "colab": {
          "base_uri": "https://localhost:8080/"
        },
        "id": "v_4_eokJuMjo",
        "outputId": "a9461097-5da8-4d84-f07d-462ea74b5ad1"
      },
      "source": [
        "# problema 2.10\n",
        "\n",
        "a= int(input('Ingresa un numero entero: '))\n",
        "b= int(input('Ingresa otro numero entero: '))\n",
        "c= int(input('Ingresa un numero entero diferente a los anteriores: '))\n",
        "\n",
        "if a>b:\n",
        "    if a>c:\n",
        "        print(f'De los numeros ingresados, {a} es el mayor')\n",
        "    else:\n",
        "        if a==c:\n",
        "            print(f'{a} es igual a {c}')\n",
        "        else:\n",
        "            print(f'De los numeros ingresados, {c} es el mayor')\n",
        "else:\n",
        "    if a==b:\n",
        "        if a>c:\n",
        "            print(f'{a} y {b} son los mayores')\n",
        "        else:\n",
        "            if  a==c:\n",
        "                print(f'{a}, {b}, {c} son los mayores')\n",
        "            else: \n",
        "                print(f'De los numeros ingresados, {c} es el mayor')\n",
        "    else:\n",
        "        if b>c:\n",
        "            print(f'De los numeros ingresados, {b} es el mayor')\n",
        "        else:\n",
        "            if b==c:\n",
        "                print(f'{b} y {c} son los mayores')\n",
        "            else:\n",
        "                print(f'De los numeros ingresados, {c} es el mayor')\n",
        "print('fin del programa')\n",
        " "
      ],
      "execution_count": 8,
      "outputs": [
        {
          "output_type": "stream",
          "name": "stdout",
          "text": [
            "Ingresa un numero entero: 4\n",
            "Ingresa otro numero entero: 3\n",
            "Ingresa un numero entero diferente a los anteriores: 4\n",
            "4 es igual a 4\n"
          ]
        }
      ]
    },
    {
      "cell_type": "code",
      "metadata": {
        "colab": {
          "base_uri": "https://localhost:8080/"
        },
        "id": "AxnxWJtHyAsV",
        "outputId": "d0ba1dbb-7bd4-4113-81dd-91004878be28"
      },
      "source": [
        "# problema 2.11\n",
        "\n",
        "clave= int(input('Ingresa la clave de tu zona: '))\n",
        "numin= int(input('Ingresa el numero de minutos: '))\n",
        "cost=0.0\n",
        "\n",
        "if clave==12:\n",
        "    cost=numin*2\n",
        "elif clave==15:\n",
        "    cost=numin*2.2\n",
        "elif clave==18:\n",
        "    cost=numin*4.5\n",
        "elif clave==19:\n",
        "    cost=numin*3.5\n",
        "elif clave==23 or clave==25:\n",
        "    cost=numin*6\n",
        "elif clave==29:\n",
        "    cost=numin*5\n",
        "print(f'El costo de la llamada es: {cost}')"
      ],
      "execution_count": 11,
      "outputs": [
        {
          "output_type": "stream",
          "name": "stdout",
          "text": [
            "Ingresa la clave de tu zona: 15\n",
            "Ingresa el numero de minutos: 10\n",
            "El costo de la llamada es: 22.0\n"
          ]
        }
      ]
    },
    {
      "cell_type": "code",
      "metadata": {
        "colab": {
          "base_uri": "https://localhost:8080/"
        },
        "id": "tsY1AAkv0sfu",
        "outputId": "0bd47f6e-addd-40f3-e75f-b0ddf2302f93"
      },
      "source": [
        "# problema 2.12\n",
        "\n",
        "sue= float(input('Ingresa el sueldo: '))\n",
        "cate= int(input('Ingresa tu categoria: '))\n",
        "he= int(input('Ingresa el numero de horas extra trabajadas: '))\n",
        "if cate==1:\n",
        "    phe=30\n",
        "elif cate==2:\n",
        "    phe=38\n",
        "elif cate==3:\n",
        "    phe=50\n",
        "elif cate==4:\n",
        "    phe=70\n",
        "else:\n",
        "    phe=0\n",
        "\n",
        "if he>30:\n",
        "    nsue=sue+30*phe\n",
        "else: \n",
        "    nsue=sue+he*phe\n",
        "print(f'Su sueldo final es: {nsue}')\n"
      ],
      "execution_count": 12,
      "outputs": [
        {
          "output_type": "stream",
          "name": "stdout",
          "text": [
            "Ingresa el sueldo: 3500\n",
            "Ingresa tu categoria: 2\n",
            "Ingresa el numero de horas extra trabajadas: 6\n",
            "Su sueldo final es: 3728.0\n"
          ]
        }
      ]
    },
    {
      "cell_type": "code",
      "metadata": {
        "colab": {
          "base_uri": "https://localhost:8080/"
        },
        "id": "QpIn3Iq94fzy",
        "outputId": "3f849b06-ec56-4fa7-9d34-0f1588fe4dba"
      },
      "source": [
        "# problema 2.13\n",
        "\n",
        "CARR= str(input(\"Ingresa la carrera a la que deseas entrar (sin mayusculas y sin acentos): \"))\n",
        "MAT= int(input(\"Ingresa tu matricula: \"))\n",
        "SEM= int(input(\"Ingresa el semestre que cursas (con numero): \"))\n",
        "PROM= float(input(\"Ingresa tu promedio: \"))\n",
        "\n",
        "if CARR== \"economia\":\n",
        "    if SEM>=6and PROM>=8.8:\n",
        "        print(\"Tu matricula es:\",MAT, \"\\nCarrera:\",CARR, \"\\nAceptado\")\n",
        "    elif SEM<6:\n",
        "        print(\"Se requiere un semestre mayor para aplicar\")\n",
        "    elif PROM<8.8:\n",
        "        print(\"Tu promedio no es suficiente para ingresar a:\", CARR)\n",
        "\n",
        "elif CARR== \"computacion\":\n",
        "    if SEM>6and PROM>8.5:\n",
        "        print(\"Tu matricula es:\",MAT, \"\\nCarrera:\",CARR, \"\\nAceptado\")\n",
        "    elif SEM<7:\n",
        "        print(\"Se requiere un semestre mayor para aplicar\")\n",
        "    elif PROM<8.6:\n",
        "        print(\"Tu promedio no es suficiente para ingresar a:\", CARR)\n",
        "\n",
        "elif CARR== \"administracion\":\n",
        "    if SEM>5and PROM>8.5:\n",
        "        print(\"Tu matricula es:\",MAT, \"\\nCarrera:\",CARR, \"\\nAceptado\")\n",
        "    elif SEM<6:\n",
        "        print(\"Se requiere un semestre mayor para aplicar\")\n",
        "    elif PROM<8.6:\n",
        "        print(\"Tu promedio no es suficiente para ingresar a:\", CARR)\n",
        "elif CARR== \"contabilidad\":\n",
        "    if SEM>5and PROM>8.6:\n",
        "        print(\"Tu matricula es:\",MAT, \"\\nCarrera:\",CARR, \"\\nAceptado\")\n",
        "    elif SEM<6:\n",
        "        print(\"Se requiere un semestre mayor para aplicar\")\n",
        "    elif PROM<8.7:\n",
        "        print(\"Tu promedio no es suficiente para ingresar a:\", CARR)"
      ],
      "execution_count": 18,
      "outputs": [
        {
          "output_type": "stream",
          "name": "stdout",
          "text": [
            "Ingresa la carrera a la que deseas entrar (sin mayusculas y sin acentos): computacion\n",
            "Ingresa tu matricula: 315\n",
            "Ingresa el semestre que cursas (con numero): 8\n",
            "Ingresa tu promedio: 10\n",
            "Tu metricula es: 315 \n",
            "Carrera: computacion \n",
            "Aceptado\n"
          ]
        }
      ]
    },
    {
      "cell_type": "code",
      "metadata": {
        "id": "QHy-GqR16Q-m"
      },
      "source": [
        "# problema 2.14\n",
        "\n",
        "TIPOENF=int(input(\"Introduce el tipo de enfemredad: \"))\n",
        "EDAD=int(input(\"Introduce la edad: \"))\n",
        "DIAS=int(input(\"Introduce el numeor de dias: \"))\n",
        "COSTO= 0.0\n",
        "if TIPOENF==1:\n",
        "    COSTO= DIAS*25.0\n",
        "\n",
        "elif TIPOENF==2:\n",
        "    COSTO= DIAS*16.0\n",
        "elif TIPOENF==3:\n",
        "    COSTO= DIAS*20.0\n",
        "elif TIPOENF==4:\n",
        "    COSTO= DIAS*32.0\n",
        "\n",
        "if EDAD>=14 and EDAD<=22:\n",
        "    COSTO= COSTO* 1.10\n",
        "\n",
        "print(\"Costo total= $\",COSTO)"
      ],
      "execution_count": null,
      "outputs": []
    }
  ]
}