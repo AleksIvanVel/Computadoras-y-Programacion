{
  "nbformat": 4,
  "nbformat_minor": 0,
  "metadata": {
    "colab": {
      "name": "Tarea_4_Velazquez_Arriaga_Aleks.ipynb",
      "provenance": [],
      "authorship_tag": "ABX9TyOB2/2i11AkkqxSZwrrSYcR",
      "include_colab_link": true
    },
    "kernelspec": {
      "name": "python3",
      "display_name": "Python 3"
    },
    "language_info": {
      "name": "python"
    }
  },
  "cells": [
    {
      "cell_type": "markdown",
      "metadata": {
        "id": "view-in-github",
        "colab_type": "text"
      },
      "source": [
        "<a href=\"https://colab.research.google.com/github/AleksIvanVel/Computadoras-y-Programacion/blob/main/Tarea_4_Velazquez_Arriaga_Aleks.ipynb\" target=\"_parent\"><img src=\"https://colab.research.google.com/assets/colab-badge.svg\" alt=\"Open In Colab\"/></a>"
      ]
    },
    {
      "cell_type": "code",
      "metadata": {
        "colab": {
          "base_uri": "https://localhost:8080/"
        },
        "id": "VNucQheI6jHR",
        "outputId": "84f96744-dd93-4709-cff8-5ed536437fab"
      },
      "source": [
        "print(\"\\t\\t A\\n\\t\\tA A\"\"\\n\\t      A     A\" \"\\n             A       A\"\"\\n            AAAAAAAAAAA\"\"\\n           A           A\\n          A             A\\n\")\n",
        "print(\"         L \\n         L \\n         L\\n         L\\n         L\\n         L\\n         LLLLLLLLLLL\\n\")\n",
        "print(\"         EEEEEEEEEEE\\n         E\\n         E\\n         E\\n         EEEEEE\\n         E\\n         E\\n         E\\n         EEEEEEEEEEE\\n\")\n",
        "print(\"         K         K\\n         K      K\\n         K    K\\n         K  K\\n         K    K\\n         K      K\\n         K         K\\n\")\n",
        "print(\"         SSSSSSSSSS\\n         S\\n         S\\n         SSSSSSSSSS\\n                  S\\n                  S\\n         SSSSSSSSSS\")\n",
        "\n"
      ],
      "execution_count": 1,
      "outputs": [
        {
          "output_type": "stream",
          "name": "stdout",
          "text": [
            "\t\t A\n",
            "\t\tA A\n",
            "\t      A     A\n",
            "             A       A\n",
            "            AAAAAAAAAAA\n",
            "           A           A\n",
            "          A             A\n",
            "\n",
            "         L \n",
            "         L \n",
            "         L\n",
            "         L\n",
            "         L\n",
            "         L\n",
            "         LLLLLLLLLLL\n",
            "\n",
            "         EEEEEEEEEEE\n",
            "         E\n",
            "         E\n",
            "         E\n",
            "         EEEEEE\n",
            "         E\n",
            "         E\n",
            "         E\n",
            "         EEEEEEEEEEE\n",
            "\n",
            "         K         K\n",
            "         K      K\n",
            "         K    K\n",
            "         K  K\n",
            "         K    K\n",
            "         K      K\n",
            "         K         K\n",
            "\n",
            "         SSSSSSSSSS\n",
            "         S\n",
            "         S\n",
            "         SSSSSSSSSS\n",
            "                  S\n",
            "                  S\n",
            "         SSSSSSSSSS\n"
          ]
        }
      ]
    }
  ]
}