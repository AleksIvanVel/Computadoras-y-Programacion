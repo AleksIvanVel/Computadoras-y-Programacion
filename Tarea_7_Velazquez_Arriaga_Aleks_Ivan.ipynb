{
  "nbformat": 4,
  "nbformat_minor": 0,
  "metadata": {
    "colab": {
      "name": "Tarea_7_Velazquez_Arriaga_Aleks_Ivan.ipynb",
      "provenance": [],
      "authorship_tag": "ABX9TyN8MD0ivoMaIEe5+9lqOd1i",
      "include_colab_link": true
    },
    "kernelspec": {
      "name": "python3",
      "display_name": "Python 3"
    },
    "language_info": {
      "name": "python"
    }
  },
  "cells": [
    {
      "cell_type": "markdown",
      "metadata": {
        "id": "view-in-github",
        "colab_type": "text"
      },
      "source": [
        "<a href=\"https://colab.research.google.com/github/AleksIvanVel/Computadoras-y-Programacion/blob/main/Tarea_7_Velazquez_Arriaga_Aleks_Ivan.ipynb\" target=\"_parent\"><img src=\"https://colab.research.google.com/assets/colab-badge.svg\" alt=\"Open In Colab\"/></a>"
      ]
    },
    {
      "cell_type": "code",
      "metadata": {
        "id": "353txksTwefw"
      },
      "source": [
        "#Problem 3.1\n",
        "\n",
        "SUMPAR=0.0\n",
        "SUMIMP=0.0\n",
        "CUEPAR=0\n",
        "i=0\n",
        "for i in range(1,10):\n",
        "    NUM=int(input('Ingresa un numero: '))\n",
        "    if NUM!=0:\n",
        "        if pow(-1, NUM)>0:\n",
        "            SUMPAR=SUMPAR+NUM\n",
        "            CUEPAR=CUEPAR+1\n",
        "        else:\n",
        "            SUMIMP=SUMIMP+NUM\n",
        "    i=i+1\n",
        "PROPAR=SUMPAR/CUEPAR\n",
        "print(f'El promedio de los numeros pares es {PROPAR} y la suma total de los impares es {SUMIMP}')"
      ],
      "execution_count": null,
      "outputs": []
    },
    {
      "cell_type": "code",
      "metadata": {
        "id": "AO8-UqEHzmLE"
      },
      "source": [
        "# Proble 3.2\n",
        "\n",
        "band= 't'\n",
        "sumser=0\n",
        "i=2\n",
        "while i<=1800:\n",
        "    sumser= sumser+1\n",
        "    print(i)\n",
        "    if band=='t':\n",
        "        band= 'f'\n",
        "        i=i+3\n",
        "    else:\n",
        "        band= 't'\n",
        "        i=i+2\n",
        "print(f'LA suma total de la serie es: {sumser}')"
      ],
      "execution_count": null,
      "outputs": []
    },
    {
      "cell_type": "code",
      "metadata": {
        "id": "_rSbGbqv1Dm5"
      },
      "source": [
        "# Problema 3.3\n",
        "\n",
        "serie=0\n",
        "n=int(input('Ingrese un numero entero positivo: '))\n",
        "band='t'\n",
        "i=1\n",
        "for i in range(1, n):\n",
        "    if band=='t':\n",
        "        serie= serie+1/i\n",
        "        band='f'\n",
        "    else:\n",
        "        serie=serie-1/i\n",
        "        band= 't'\n",
        "    i=i+1\n",
        "\n",
        "print(f'La serie es: {serie}')"
      ],
      "execution_count": null,
      "outputs": []
    },
    {
      "cell_type": "code",
      "metadata": {
        "id": "Io0xVfba32Pg"
      },
      "source": [
        "# Problema 3.4\n",
        "\n",
        "nom=0\n",
        "sue=float(input('Ingrese su sueldo: '))\n",
        "while sue!=-1:\n",
        "    if sue<1000:\n",
        "        nsue=sue*1.15\n",
        "    else:\n",
        "        nsue=sue*1.12\n",
        "\n",
        "    nom=nom + nsue\n",
        "    print(f'El sueldo es de: {nsue}')\n",
        "    sue=float(input('Ingrese su sueldo: '))\n",
        "print(nom)"
      ],
      "execution_count": null,
      "outputs": []
    }
  ]
}