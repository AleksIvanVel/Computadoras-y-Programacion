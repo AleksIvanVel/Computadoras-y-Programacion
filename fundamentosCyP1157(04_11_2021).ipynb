{
  "nbformat": 4,
  "nbformat_minor": 0,
  "metadata": {
    "colab": {
      "name": "fundamentosCyP1157(04-11-2021).ipynb",
      "provenance": [],
      "authorship_tag": "ABX9TyP/9tH3Gq6AW/5Zpm3aXCsZ",
      "include_colab_link": true
    },
    "kernelspec": {
      "name": "python3",
      "display_name": "Python 3"
    },
    "language_info": {
      "name": "python"
    }
  },
  "cells": [
    {
      "cell_type": "markdown",
      "metadata": {
        "id": "view-in-github",
        "colab_type": "text"
      },
      "source": [
        "<a href=\"https://colab.research.google.com/github/AleksIvanVel/Computadoras-y-Programacion/blob/main/fundamentosCyP1157(04_11_2021).ipynb\" target=\"_parent\"><img src=\"https://colab.research.google.com/assets/colab-badge.svg\" alt=\"Open In Colab\"/></a>"
      ]
    },
    {
      "cell_type": "markdown",
      "metadata": {
        "id": "QviCuPKGPiI8"
      },
      "source": [
        "# datos de entrada \n",
        "\n",
        "Para solicitar los datos del usuario se emplea la función input. La cual regresa siempre, un tipo de dato String."
      ]
    },
    {
      "cell_type": "code",
      "metadata": {
        "id": "t2kOCXQEPkxd"
      },
      "source": [
        "nombre = input(\"Ingresa tu nombre\")\n",
        "print(\"Tecleaste:\" , nombre )"
      ],
      "execution_count": null,
      "outputs": []
    },
    {
      "cell_type": "markdown",
      "metadata": {
        "id": "tLSzURO8Pn6w"
      },
      "source": [
        "#¿Como capturar datos numericos?\n",
        "Para ello se hace una conversación entre tipo...\n",
        "casting.. consiste en llamr al constructor de la clase desedad.\n",
        "\n",
        "## Ejemplo convertir el string \"2\" en numero\n",
        "### num = int(\"2\")"
      ]
    },
    {
      "cell_type": "code",
      "metadata": {
        "colab": {
          "base_uri": "https://localhost:8080/"
        },
        "id": "p7Jj4zQJPrU8",
        "outputId": "49ada296-1c6f-4749-ec1f-ab02ffc69f84"
      },
      "source": [
        "entrada = input(\"Dame tu edad: \")\n",
        "edad = int(entrada)\n",
        "edad += 1 #edad = edad + 1\n",
        "print(\"Tu edad es: \", edad)"
      ],
      "execution_count": null,
      "outputs": [
        {
          "output_type": "stream",
          "name": "stdout",
          "text": [
            "Dame tu edad: 18\n",
            "Tu edad es:  19\n"
          ]
        }
      ]
    },
    {
      "cell_type": "code",
      "metadata": {
        "colab": {
          "base_uri": "https://localhost:8080/"
        },
        "id": "6JzGbmHnPu7f",
        "outputId": "4144b0af-293b-47d4-ae82-b18b7f7d6461"
      },
      "source": [
        "# lo anterior pero más corto o más fácil\n",
        "\n",
        "edad = int( input(\"Dame tu edad: \") )\n",
        "print(\"tu edad es: \", edad+1 )\n",
        "\n",
        "#estatura con float para numeros con decimal\n",
        "estatura = float( input(\"Dame tu estatura: \") )\n",
        "print(\"tu estatura es: \", estatura+0.1 )"
      ],
      "execution_count": null,
      "outputs": [
        {
          "output_type": "stream",
          "name": "stdout",
          "text": [
            "Dame tu edad: 18\n",
            "tu edad es:  19\n",
            "Dame tu estatura: 1.65\n",
            "tu estatura es:  1.75\n"
          ]
        }
      ]
    },
    {
      "cell_type": "code",
      "metadata": {
        "colab": {
          "base_uri": "https://localhost:8080/"
        },
        "id": "z-GHIIC9P1ZF",
        "outputId": "8978efb9-505e-4cff-e56c-1e16e2841d44"
      },
      "source": [
        "# input booleans\n",
        "#convertir a entero int\n",
        "casada = bool(int(input(\"Soltero (0) casado (1)\")))\n",
        "print(\"casada=\", casada )"
      ],
      "execution_count": null,
      "outputs": [
        {
          "output_type": "stream",
          "name": "stdout",
          "text": [
            "Soltera (0) casada (1)0\n",
            "casada= False\n"
          ]
        }
      ]
    },
    {
      "cell_type": "markdown",
      "metadata": {
        "id": "4VvJZxrbFpO_"
      },
      "source": [
        "*tipos de ddato estructurado\n",
        "1. Listas\n",
        "2. Tuplas\n",
        "3. Diccionarios\n",
        "4. COnjjuntos (opciopnal)\n"
      ]
    },
    {
      "cell_type": "markdown",
      "metadata": {
        "id": "3-bmvPrNGX6I"
      },
      "source": [
        "# Listas\n",
        "- Tipo de dato que agrupa variables o valores.\n",
        "- Estructura secuencial (undexados empezando por 0)\n",
        "- Se declara de 2 formas#\n",
        "     - usando []\n",
        "     - usando list()\n",
        "     - usando un generador\n",
        "- Puede contener tipos de datos diversos ( En otros lenguajes de programación esto no es posible de forma directa)\n",
        "- Los elemntos internos se selccionas con []\n",
        "- Soporta slicing\n",
        "- Generadores [var for x in range ( 10 )]\n",
        "- Son mutables"
      ]
    },
    {
      "cell_type": "code",
      "metadata": {
        "id": "uhMb9f2kGVc8"
      },
      "source": [
        "lista = [10, 5, 2, 6, 3]\n",
        "print(lista)\n",
        "\n",
        "lista2 = list()\n",
        "lista2.append(10)\n",
        "lista2.append(5)\n",
        "lista2.append(2)\n",
        "lista2.append(15)\n",
        "lista2.append(22)\n",
        "print(lista2)\n",
        "lista[2] = 20\n",
        "print(lista)\n",
        "lista[3] = 8\n",
        "print(lista)\n",
        "lista[-1] = 15\n",
        "print(lista)"
      ],
      "execution_count": null,
      "outputs": []
    },
    {
      "cell_type": "code",
      "metadata": {
        "id": "yRhCD_6EG1lG"
      },
      "source": [
        "# tipos diversos\n",
        "\n",
        "cosas = [12, 2, True, \"Aleks\", 1.70, [\"Sandia\", \"kiwi\", \"uva\"]]\n",
        "print(cosas)\n",
        "print(cosas[1])\n",
        "print(cosas[ 4 ])\n",
        "print(cosas[ 5 ])\n",
        "print(cosas[ 5][1])\n",
        "print(cosas[ 3][1:3])\n",
        "cosas[3] = cosas[3].upper()\n",
        "print(cosas)"
      ],
      "execution_count": null,
      "outputs": []
    },
    {
      "cell_type": "code",
      "metadata": {
        "colab": {
          "base_uri": "https://localhost:8080/"
        },
        "id": "52h4LkcJG_ee",
        "outputId": "205f2cc2-854b-49fb-cdff-af09d99ff9a7"
      },
      "source": [
        "numeros = [1, 2, 3, 4, 5, 6, 7, 8, 9, 10, 11]\n",
        "print(numeros)\n",
        "#slicing\n",
        "# 1.- 4 al 8\n",
        "print( numeros[3:8] ) \n",
        "# 2: [9,10]\n",
        "print( numeros[8:10] )\n",
        "print( numeros[-3:-1] )\n",
        "#3:.- imprimir la lista en orden inverso\n",
        "print( numeros[::-1] )"
      ],
      "execution_count": null,
      "outputs": [
        {
          "output_type": "stream",
          "name": "stdout",
          "text": [
            "[1, 2, 3, 4, 5, 6, 7, 8, 9, 10, 11]\n",
            "[4, 5, 6, 7, 8]\n",
            "[9, 10]\n",
            "[9, 10]\n",
            "[11, 10, 9, 8, 7, 6, 5, 4, 3, 2, 1]\n"
          ]
        }
      ]
    },
    {
      "cell_type": "code",
      "metadata": {
        "colab": {
          "base_uri": "https://localhost:8080/"
        },
        "id": "BYSA3X6eHCEP",
        "outputId": "53ac5aab-9f46-48f4-d76b-40d7c26de3ee"
      },
      "source": [
        "# crear una lista con un generador\n",
        "numeros = [x*3 for x in range(101)]\n",
        "print(numeros)\n",
        "numeros = [x for x in range(101)]\n",
        "print(numeros)\n",
        "numeros = [x for x in range(1001)]\n",
        "print(numeros)\n",
        "numeros = [x for x in range(50, 101)]\n",
        "print(numeros)\n",
        "numeros = [x for x in range(50, 101, 5)]\n",
        "print(numeros)"
      ],
      "execution_count": null,
      "outputs": [
        {
          "output_type": "stream",
          "name": "stdout",
          "text": [
            "[0, 3, 6, 9, 12, 15, 18, 21, 24, 27, 30, 33, 36, 39, 42, 45, 48, 51, 54, 57, 60, 63, 66, 69, 72, 75, 78, 81, 84, 87, 90, 93, 96, 99, 102, 105, 108, 111, 114, 117, 120, 123, 126, 129, 132, 135, 138, 141, 144, 147, 150, 153, 156, 159, 162, 165, 168, 171, 174, 177, 180, 183, 186, 189, 192, 195, 198, 201, 204, 207, 210, 213, 216, 219, 222, 225, 228, 231, 234, 237, 240, 243, 246, 249, 252, 255, 258, 261, 264, 267, 270, 273, 276, 279, 282, 285, 288, 291, 294, 297, 300]\n",
            "[0, 1, 2, 3, 4, 5, 6, 7, 8, 9, 10, 11, 12, 13, 14, 15, 16, 17, 18, 19, 20, 21, 22, 23, 24, 25, 26, 27, 28, 29, 30, 31, 32, 33, 34, 35, 36, 37, 38, 39, 40, 41, 42, 43, 44, 45, 46, 47, 48, 49, 50, 51, 52, 53, 54, 55, 56, 57, 58, 59, 60, 61, 62, 63, 64, 65, 66, 67, 68, 69, 70, 71, 72, 73, 74, 75, 76, 77, 78, 79, 80, 81, 82, 83, 84, 85, 86, 87, 88, 89, 90, 91, 92, 93, 94, 95, 96, 97, 98, 99, 100]\n",
            "[0, 1, 2, 3, 4, 5, 6, 7, 8, 9, 10, 11, 12, 13, 14, 15, 16, 17, 18, 19, 20, 21, 22, 23, 24, 25, 26, 27, 28, 29, 30, 31, 32, 33, 34, 35, 36, 37, 38, 39, 40, 41, 42, 43, 44, 45, 46, 47, 48, 49, 50, 51, 52, 53, 54, 55, 56, 57, 58, 59, 60, 61, 62, 63, 64, 65, 66, 67, 68, 69, 70, 71, 72, 73, 74, 75, 76, 77, 78, 79, 80, 81, 82, 83, 84, 85, 86, 87, 88, 89, 90, 91, 92, 93, 94, 95, 96, 97, 98, 99, 100, 101, 102, 103, 104, 105, 106, 107, 108, 109, 110, 111, 112, 113, 114, 115, 116, 117, 118, 119, 120, 121, 122, 123, 124, 125, 126, 127, 128, 129, 130, 131, 132, 133, 134, 135, 136, 137, 138, 139, 140, 141, 142, 143, 144, 145, 146, 147, 148, 149, 150, 151, 152, 153, 154, 155, 156, 157, 158, 159, 160, 161, 162, 163, 164, 165, 166, 167, 168, 169, 170, 171, 172, 173, 174, 175, 176, 177, 178, 179, 180, 181, 182, 183, 184, 185, 186, 187, 188, 189, 190, 191, 192, 193, 194, 195, 196, 197, 198, 199, 200, 201, 202, 203, 204, 205, 206, 207, 208, 209, 210, 211, 212, 213, 214, 215, 216, 217, 218, 219, 220, 221, 222, 223, 224, 225, 226, 227, 228, 229, 230, 231, 232, 233, 234, 235, 236, 237, 238, 239, 240, 241, 242, 243, 244, 245, 246, 247, 248, 249, 250, 251, 252, 253, 254, 255, 256, 257, 258, 259, 260, 261, 262, 263, 264, 265, 266, 267, 268, 269, 270, 271, 272, 273, 274, 275, 276, 277, 278, 279, 280, 281, 282, 283, 284, 285, 286, 287, 288, 289, 290, 291, 292, 293, 294, 295, 296, 297, 298, 299, 300, 301, 302, 303, 304, 305, 306, 307, 308, 309, 310, 311, 312, 313, 314, 315, 316, 317, 318, 319, 320, 321, 322, 323, 324, 325, 326, 327, 328, 329, 330, 331, 332, 333, 334, 335, 336, 337, 338, 339, 340, 341, 342, 343, 344, 345, 346, 347, 348, 349, 350, 351, 352, 353, 354, 355, 356, 357, 358, 359, 360, 361, 362, 363, 364, 365, 366, 367, 368, 369, 370, 371, 372, 373, 374, 375, 376, 377, 378, 379, 380, 381, 382, 383, 384, 385, 386, 387, 388, 389, 390, 391, 392, 393, 394, 395, 396, 397, 398, 399, 400, 401, 402, 403, 404, 405, 406, 407, 408, 409, 410, 411, 412, 413, 414, 415, 416, 417, 418, 419, 420, 421, 422, 423, 424, 425, 426, 427, 428, 429, 430, 431, 432, 433, 434, 435, 436, 437, 438, 439, 440, 441, 442, 443, 444, 445, 446, 447, 448, 449, 450, 451, 452, 453, 454, 455, 456, 457, 458, 459, 460, 461, 462, 463, 464, 465, 466, 467, 468, 469, 470, 471, 472, 473, 474, 475, 476, 477, 478, 479, 480, 481, 482, 483, 484, 485, 486, 487, 488, 489, 490, 491, 492, 493, 494, 495, 496, 497, 498, 499, 500, 501, 502, 503, 504, 505, 506, 507, 508, 509, 510, 511, 512, 513, 514, 515, 516, 517, 518, 519, 520, 521, 522, 523, 524, 525, 526, 527, 528, 529, 530, 531, 532, 533, 534, 535, 536, 537, 538, 539, 540, 541, 542, 543, 544, 545, 546, 547, 548, 549, 550, 551, 552, 553, 554, 555, 556, 557, 558, 559, 560, 561, 562, 563, 564, 565, 566, 567, 568, 569, 570, 571, 572, 573, 574, 575, 576, 577, 578, 579, 580, 581, 582, 583, 584, 585, 586, 587, 588, 589, 590, 591, 592, 593, 594, 595, 596, 597, 598, 599, 600, 601, 602, 603, 604, 605, 606, 607, 608, 609, 610, 611, 612, 613, 614, 615, 616, 617, 618, 619, 620, 621, 622, 623, 624, 625, 626, 627, 628, 629, 630, 631, 632, 633, 634, 635, 636, 637, 638, 639, 640, 641, 642, 643, 644, 645, 646, 647, 648, 649, 650, 651, 652, 653, 654, 655, 656, 657, 658, 659, 660, 661, 662, 663, 664, 665, 666, 667, 668, 669, 670, 671, 672, 673, 674, 675, 676, 677, 678, 679, 680, 681, 682, 683, 684, 685, 686, 687, 688, 689, 690, 691, 692, 693, 694, 695, 696, 697, 698, 699, 700, 701, 702, 703, 704, 705, 706, 707, 708, 709, 710, 711, 712, 713, 714, 715, 716, 717, 718, 719, 720, 721, 722, 723, 724, 725, 726, 727, 728, 729, 730, 731, 732, 733, 734, 735, 736, 737, 738, 739, 740, 741, 742, 743, 744, 745, 746, 747, 748, 749, 750, 751, 752, 753, 754, 755, 756, 757, 758, 759, 760, 761, 762, 763, 764, 765, 766, 767, 768, 769, 770, 771, 772, 773, 774, 775, 776, 777, 778, 779, 780, 781, 782, 783, 784, 785, 786, 787, 788, 789, 790, 791, 792, 793, 794, 795, 796, 797, 798, 799, 800, 801, 802, 803, 804, 805, 806, 807, 808, 809, 810, 811, 812, 813, 814, 815, 816, 817, 818, 819, 820, 821, 822, 823, 824, 825, 826, 827, 828, 829, 830, 831, 832, 833, 834, 835, 836, 837, 838, 839, 840, 841, 842, 843, 844, 845, 846, 847, 848, 849, 850, 851, 852, 853, 854, 855, 856, 857, 858, 859, 860, 861, 862, 863, 864, 865, 866, 867, 868, 869, 870, 871, 872, 873, 874, 875, 876, 877, 878, 879, 880, 881, 882, 883, 884, 885, 886, 887, 888, 889, 890, 891, 892, 893, 894, 895, 896, 897, 898, 899, 900, 901, 902, 903, 904, 905, 906, 907, 908, 909, 910, 911, 912, 913, 914, 915, 916, 917, 918, 919, 920, 921, 922, 923, 924, 925, 926, 927, 928, 929, 930, 931, 932, 933, 934, 935, 936, 937, 938, 939, 940, 941, 942, 943, 944, 945, 946, 947, 948, 949, 950, 951, 952, 953, 954, 955, 956, 957, 958, 959, 960, 961, 962, 963, 964, 965, 966, 967, 968, 969, 970, 971, 972, 973, 974, 975, 976, 977, 978, 979, 980, 981, 982, 983, 984, 985, 986, 987, 988, 989, 990, 991, 992, 993, 994, 995, 996, 997, 998, 999, 1000]\n",
            "[50, 51, 52, 53, 54, 55, 56, 57, 58, 59, 60, 61, 62, 63, 64, 65, 66, 67, 68, 69, 70, 71, 72, 73, 74, 75, 76, 77, 78, 79, 80, 81, 82, 83, 84, 85, 86, 87, 88, 89, 90, 91, 92, 93, 94, 95, 96, 97, 98, 99, 100]\n",
            "[50, 55, 60, 65, 70, 75, 80, 85, 90, 95, 100]\n"
          ]
        }
      ]
    },
    {
      "cell_type": "markdown",
      "metadata": {
        "id": "RgwXBAjoHOvw"
      },
      "source": [
        "# función range()\n",
        "\n",
        "tiene los mismo componentes que slicing\n",
        "inicio, stop, incremento\n",
        "range(1, 101, 1)"
      ]
    },
    {
      "cell_type": "markdown",
      "metadata": {
        "id": "l2D4YYpBHSAl"
      },
      "source": [
        "#metodos disponibles de las listas"
      ]
    },
    {
      "cell_type": "code",
      "metadata": {
        "id": "RNrAuL5THTFY"
      },
      "source": [
        "dir(list)"
      ],
      "execution_count": null,
      "outputs": []
    },
    {
      "cell_type": "code",
      "metadata": {
        "colab": {
          "base_uri": "https://localhost:8080/"
        },
        "id": "GD-xh-YzHY9D",
        "outputId": "666b66ec-108c-475e-9c3e-3dff74e1891b"
      },
      "source": [
        "numeros = [ 4, 1, 15, 8, 22, 72, 28]\n",
        "print(numeros)\n",
        "numeros.append(99)\n",
        "print(numeros)\n",
        "#numeros.clear()\n",
        "#alternativa\n",
        "numeros = []\n",
        "\n",
        "frutas = [\"uvas\", \"kiwi\", \"manzana\"]\n",
        "copia = frutas\n",
        "print( frutas )\n",
        "print( copia )\n",
        "frutas.append(\"fresa\")\n",
        "print( frutas )\n",
        "print( copia ) #copia de referencia\n",
        "\n",
        "\n",
        "colores = [\"rojo\", \"morado\", \"negro\"]\n",
        "copia2 = colores.copy()\n",
        "print( colores )\n",
        "print( copia2 )\n",
        "colores.append(\"verde\")\n",
        "print( colores )\n",
        "print( copia2 )\n",
        "numeros = [ 4, 1, 15, 8, 22, 72, 28]\n",
        "print(numeros)\n",
        "\n",
        "\n",
        "numeros.append(99)\n",
        "print(\"Numero de veces que aprece el 72=\", numeros.count(72))\n",
        "\n",
        "#estend\n",
        "nombres = [\"Jose\", \"pedro\", \"jesus\"]\n",
        "otrosNombres = [\"Josue\", \"diana\", \"dennis\"]\n",
        "print(nombres)\n",
        "print(otrosNombres)\n",
        "nombres = nombres + otrosNombres\n",
        "print(nombres)\n",
        "print(otrosNombres)\n",
        "\n",
        "#lo mismo con el método extend\n",
        "otrosNombres.extend([\"Jesus\", \"Maria\", \"Jose\"])\n",
        "print(otrosNombres)\n",
        "print(\"Jesus esta en la posicion: \", otrosNombres.index(\"Jesus\"))\n",
        "otrosNombres.insert(4, \"Espiritu santo\")\n",
        "print(otrosNombres) #insertar en una posicion especifica\n",
        "\n",
        "# pop\n",
        "resultado = otrosNombres.pop()\n",
        "print(otrosNombres)\n",
        "print(resultado)"
      ],
      "execution_count": null,
      "outputs": [
        {
          "output_type": "stream",
          "name": "stdout",
          "text": [
            "[4, 1, 15, 8, 22, 72, 28]\n",
            "[4, 1, 15, 8, 22, 72, 28, 99]\n",
            "['uvas', 'kiwi', 'manzana']\n",
            "['uvas', 'kiwi', 'manzana']\n",
            "['uvas', 'kiwi', 'manzana', 'fresa']\n",
            "['uvas', 'kiwi', 'manzana', 'fresa']\n",
            "['rojo', 'morado', 'negro']\n",
            "['rojo', 'morado', 'negro']\n",
            "['rojo', 'morado', 'negro', 'verde']\n",
            "['rojo', 'morado', 'negro']\n",
            "[4, 1, 15, 8, 22, 72, 28]\n",
            "Numero de veces que aprece el 72= 1\n",
            "['Jose', 'pedro', 'jesus']\n",
            "['Josue', 'diana', 'dennis']\n",
            "['Jose', 'pedro', 'jesus', 'Josue', 'diana', 'dennis']\n",
            "['Josue', 'diana', 'dennis']\n",
            "['Josue', 'diana', 'dennis', 'Jesus', 'Maria', 'Jose']\n",
            "Jesus esta en la posicion:  3\n",
            "['Josue', 'diana', 'dennis', 'Jesus', 'Espiritu santo', 'Maria', 'Jose']\n",
            "['Josue', 'diana', 'dennis', 'Jesus', 'Espiritu santo', 'Maria']\n",
            "Jose\n"
          ]
        }
      ]
    },
    {
      "cell_type": "markdown",
      "metadata": {
        "id": "FWreiZ0Ov7UE"
      },
      "source": [
        "#Tuplas \n",
        "\n",
        "###Caracteristicas de las tuplas\n",
        "- Datos agrupados.\n",
        "- Se declara usando#\n",
        "  - \"()\"\n",
        "  - \"tuple()\"\n",
        "- Estructura secuencial (esta indexada a partir de cero). \n",
        "- pueden tener 0 a n elementos. \n",
        "- NO SON MUTABLES (no se puede eleminiar y/o cambiar). \n",
        "- Son buenas para almacenar informacion de consulta. \n",
        "- Pueden almacenar informaciuon de diferentes tipos de datos.\n",
        "- Pueden estar anidadas \n",
        "- Tienen metodos útiles \n"
      ]
    },
    {
      "cell_type": "code",
      "metadata": {
        "colab": {
          "base_uri": "https://localhost:8080/"
        },
        "id": "yus9ih57w9sI",
        "outputId": "206cfacc-9762-4d4f-e7e1-ede0c4ab1b03"
      },
      "source": [
        "info = (\"juan23\" , \"dios1234\" , \"123.232.1.12\")\n",
        "print(info)\n",
        "print(info[1])\n",
        "#info[1]=\"patito23\"\n",
        "\n",
        "numeros = (0,1,2,3,4,5,6,7,8,9,10,11,12,13,14,15)\n",
        "print(numeros)\n",
        "print(numeros [5:11])\n",
        "\n",
        "cosas = (info,numeros)\n",
        "print(cosas)\n",
        "print(cosas[1][5:11:1])\n",
        "print(cosas[0][2][4:7])\n",
        "print(cosas[0][2][-8:-5])"
      ],
      "execution_count": null,
      "outputs": [
        {
          "output_type": "stream",
          "name": "stdout",
          "text": [
            "('juan23', 'dios1234', '123.232.1.12')\n",
            "dios1234\n",
            "(0, 1, 2, 3, 4, 5, 6, 7, 8, 9, 10, 11, 12, 13, 14, 15)\n",
            "(5, 6, 7, 8, 9, 10)\n",
            "(('juan23', 'dios1234', '123.232.1.12'), (0, 1, 2, 3, 4, 5, 6, 7, 8, 9, 10, 11, 12, 13, 14, 15))\n",
            "(5, 6, 7, 8, 9, 10)\n",
            "232\n",
            "232\n"
          ]
        }
      ]
    },
    {
      "cell_type": "markdown",
      "metadata": {
        "id": "s9CCeTgP0l_o"
      },
      "source": [
        "# Métodos de las tuplas\n",
        "En resumen son los mismos de las listas, pero los que no involucre mutabilidad\n"
      ]
    },
    {
      "cell_type": "code",
      "metadata": {
        "id": "W1ZzVOJG00Gv"
      },
      "source": [
        "dir(tuple)"
      ],
      "execution_count": null,
      "outputs": []
    },
    {
      "cell_type": "markdown",
      "metadata": {
        "id": "x-ROLQpu2uh9"
      },
      "source": [
        "# Diccionarios \n",
        "### Características de los diccionarios \n",
        "- Agrupan datos, pero de forma no lineal\n",
        "- Se declaran con: \n",
        "  - { }\n",
        "  - dic{ }\n",
        "- Formado por pares del tipo llave:valor, donde: \n",
        "  - llave: es de tipo string\n",
        "  - valor: puede ser de cualquier tipo de dato, incluyendo los diccionarios \n",
        "- Se seleccionan con la llave de la forma [\"id_llave\"]\n",
        "- Son mutables\n",
        "- Son anidables\n",
        "- SOn equivalentes al tipo de dato JOSN del lenguaje JavaScript (JS)\n"
      ]
    },
    {
      "cell_type": "code",
      "metadata": {
        "colab": {
          "base_uri": "https://localhost:8080/"
        },
        "id": "-eJheFYi4vcg",
        "outputId": "2caaebfa-62c2-4ecf-cde7-8454d4213252"
      },
      "source": [
        "alumno = {\"nombre\":\"José\" }\n",
        "print(alumno)\n",
        "print( alumno[\"nombre\"])\n",
        "\n",
        "alumno = {\"nombre\":\"José\", \"nc\": \"319077632\", \"edad\": 18}\n",
        "print(\"Edad del alumno=\", alumno[\"edad\"])\n",
        "print(alumno[\"nombre\"].upper())\n",
        "\n",
        "print(\"----------------------------\")\n",
        "alumno2= dict()\n",
        "alumno2[\"nombre\"]= \"José\"\n",
        "print(alumno2) \n",
        "alumno2[\"nc\"]= \"319077632\"\n",
        "alumno2[\"edad\"]= 18\n",
        "print(alumno2)\n",
        "\n",
        "print(\"-----------------------------\")\n",
        "alumno2[\"edad\"]= alumno2[\"edad\"]+1\n",
        "print(alumno2)"
      ],
      "execution_count": null,
      "outputs": [
        {
          "output_type": "stream",
          "name": "stdout",
          "text": [
            "{'nombre': 'José'}\n",
            "José\n",
            "Edad del alumno= 18\n",
            "JOSÉ\n",
            "----------------------------\n",
            "{'nombre': 'José'}\n",
            "{'nombre': 'José', 'nc': '319077632', 'edad': 18}\n",
            "-----------------------------\n",
            "{'nombre': 'José', 'nc': '319077632', 'edad': 19}\n"
          ]
        }
      ]
    },
    {
      "cell_type": "code",
      "metadata": {
        "colab": {
          "base_uri": "https://localhost:8080/"
        },
        "id": "IMsrFuzd8PMi",
        "outputId": "2d218a9c-2f66-4828-b374-812b921eb0bc"
      },
      "source": [
        "cliente= { \"id\":\"CT2121\", \n",
        "          \"nombre\":\"José Pedroza Rosales\", \n",
        "          \"telefonos\":\"casa=55446535 celular=0445528544632\" }\n",
        "print(cliente)\n",
        "\n",
        "cliente= { \"id\":\"CT2121\", \n",
        "          \"nombre\": {\n",
        "              \"nombres_pila\":[\"José\", \"Eduardo\"],\n",
        "              \"paterno\":\"Pedroza\",\n",
        "              \"materno\":\"Rosales\"\n",
        "                    }, \n",
        "          \"telefonos\":{\n",
        "              \"casa\":\"5544653528\",\n",
        "              \"trabajo\":\"554463265\",\n",
        "              \"celular\":\"0445528544632\"\n",
        "                      }, \n",
        "          \"productos\":{\n",
        "                      \"ahorro\":{\"numero_cuenta\":\"7788\", \"ahorro\":2500.5},\n",
        "                      \"tarjetas\":[\n",
        "                                  {\"tipo\": \"debioto\", \"saldo\":10000.50},\n",
        "                                  {\"tipo\": \"credito preferemte\", \"limite\": 250000.20},\n",
        "                                  {\"tipo\":\"lite\", \"limite\":150000.50}\n",
        "                                 ]   \n",
        "                      },\n",
        "          \"direccion\":{\n",
        "                        \"calle\":\"AV. centrla\",\n",
        "                        \"numero\":1245,\n",
        "                        \"colonia\": \"Impulsora\",\n",
        "                        \"delegacion\": \"Neza\",\n",
        "                        \"estado\":{\n",
        "                                  \"clave\":15,\n",
        "                                  \"nombre_corto\":\"EdoMex\",\n",
        "                                  \"nombre\":\"Estado de México\"\n",
        "                        }\n",
        "              \n",
        "                      }\n",
        "          }\n",
        "\n",
        "print(cliente[\"telefonos\"][\"casa\"])\n",
        "print(\"---------------------\")\n",
        "print(\"El cliente tiene ahorrado:\",cliente[\"productos\"][\"ahorro\"][\"ahorro\"])\n",
        "print(cliente[\"productos\"][\"tarjetas\"][2][\"limite\"])\n",
        "print(cliente[\"direccion\"][\"estado\"][\"nombre\"].upper())\n",
        "cliente[\"productos\"][\"ahorro\"][\"ahorro\"]-=1500\n",
        "print(cliente[\"productos\"][\"ahorro\"][\"ahorro\"])"
      ],
      "execution_count": 4,
      "outputs": [
        {
          "output_type": "stream",
          "name": "stdout",
          "text": [
            "{'id': 'CT2121', 'nombre': 'José Pedroza Rosales', 'telefonos': 'casa=55446535 celular=0445528544632'}\n",
            "5544653528\n",
            "---------------------\n",
            "El cliente tiene ahorrado: 2500.5\n",
            "150000.5\n",
            "ESTADO DE MÉXICO\n",
            "1000.5\n"
          ]
        }
      ]
    },
    {
      "cell_type": "code",
      "metadata": {
        "colab": {
          "base_uri": "https://localhost:8080/"
        },
        "id": "m-bbwqvNJPQH",
        "outputId": "c0246621-4143-4ac9-927b-a26354bfb78c"
      },
      "source": [
        "#Diccionario de la pelicula \"La hera de hielo\"\n",
        "pelicula= {\n",
        "            \"saga\":\"La hera de hielo\",\n",
        "           \"nombre\": [\"La hera de hielo 1\", \"La hera de hielo 2\",\"La hera de hielo 3\",\"La hera de hielo 4\",\"La hera de hielo 5\"],\n",
        "           \"genero\":\"animado\",\n",
        "           \"publico\":\"infantil\",\n",
        "           \"clasificación\":\"A+\"\n",
        "           }\n",
        "\n",
        "print(pelicula[\"saga\"])\n",
        "print(pelicula[\"clasificación\"])\n",
        "print(pelicula[\"nombre\"][2])"
      ],
      "execution_count": 8,
      "outputs": [
        {
          "output_type": "stream",
          "name": "stdout",
          "text": [
            "La hera de hielo\n",
            "A+\n",
            "La hera de hielo 3\n"
          ]
        }
      ]
    }
  ]
}