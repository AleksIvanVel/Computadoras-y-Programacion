{
  "nbformat": 4,
  "nbformat_minor": 0,
  "metadata": {
    "colab": {
      "name": "fundamentosCyP1157 (12-10-2021).ipynb",
      "provenance": [],
      "authorship_tag": "ABX9TyO2MRfFvD1+ERlh7748b4hk",
      "include_colab_link": true
    },
    "kernelspec": {
      "name": "python3",
      "display_name": "Python 3"
    },
    "language_info": {
      "name": "python"
    }
  },
  "cells": [
    {
      "cell_type": "markdown",
      "metadata": {
        "id": "view-in-github",
        "colab_type": "text"
      },
      "source": [
        "<a href=\"https://colab.research.google.com/github/AleksIvanVel/Computadoras-y-Programacion/blob/main/fundamentosCyP1157_(12_10_2021).ipynb\" target=\"_parent\"><img src=\"https://colab.research.google.com/assets/colab-badge.svg\" alt=\"Open In Colab\"/></a>"
      ]
    },
    {
      "cell_type": "code",
      "metadata": {
        "id": "tTzs0mceVf7j"
      },
      "source": [
        "nombre = 'José' # Tipo de dato, String (cadena de caracteres)\n",
        "print(nombre) \n"
      ],
      "execution_count": null,
      "outputs": []
    },
    {
      "cell_type": "markdown",
      "metadata": {
        "id": "-7RUzbI3XMVU"
      },
      "source": [
        "# Tipos de datos en Python\n",
        "\n",
        "### Tipos de datos Simples\n",
        "- str --> String cadena de caracteres \n",
        "- int --> Numeros enteros\n",
        "- float --> Numeros con notacion de punto flotante \n",
        "- complex --> Numeros complejos  \n",
        "- bool --> Boleano (True o False)\n",
        "- byte --> 8 bits\n",
        "\n",
        "### Tipos de datos Compuestos (estructurados) \n",
        "- list --> listas\n",
        "- tuple --> Lista no mutables\n",
        "- dict --> diccionarios\n",
        "- set y fronzenset --> Conjuntos\n",
        "\n",
        "\n"
      ]
    },
    {
      "cell_type": "code",
      "metadata": {
        "id": "b-YojmcIaS8c"
      },
      "source": [
        "import sys\n",
        "edad = 19\n",
        "print(\"Tu edad es: \", edad) # el comentario puede ir al final de una linea de codigo \n",
        "# comentario de linea simple \n",
        "\n",
        "\"\"\"\n",
        "Comentario de multiple linea\n",
        "En lenguaje C, C++ y Java el comentario de multiple linea es con \n",
        "/*.....*/\n",
        "\n",
        "En lenguaje C, C++ y Java el comentario de linea simple es con: \n",
        "\n",
        "//\n",
        "\n",
        "Aqui  puede explicar en prosa el segmento de un codigo para futuras revisiones \n",
        "\"\"\"\n",
        "\n",
        "# tipos de datos numericos int y float\n",
        "\n",
        "sys.getsizeof (edad)\n",
        "# el tipo de dato INT utiliza diferenete cantidad de bits segun el lenguaje de prog.\n",
        "\n",
        "edad= edad + 1\n",
        "print (edad)\n",
        "\n",
        "estatura = 1.56 # dato de tipo flotante \n",
        "print(estatura)\n",
        "print(sys.getsizeof(estatura))\n",
        "estatura = estatura + 0.1 \n",
        "print(round(estatura,2))\n",
        "\n",
        "edad += 1 # es lo mismo que poner edad = edad+1\n",
        "print(\"Tu edad es: \", edad) \n",
        "\n",
        "edad -= 1 # es lo mismo que poner edad = edad-1\n",
        "print(\"Tu edad es: \", edad) \n",
        "\n",
        "edad +=1\n",
        "edad /= 2 # es lo mismo que poner edad = edad/2\n",
        "print(\"La mitad de tu edad es: \", edad) \n",
        "\n",
        "edad= 21\n",
        "# colcer a calcular la mitad de la edad pero solo dejar la parte entera \n",
        "edad = edad // 2\n",
        "print(\"La mitad de tu edad es: \", edad) \n",
        "\n",
        "numero= edad/2.0 # en python si podemos hacer operaciones con diferentes tipos de datos \n",
        "print(numero)\n",
        "\n",
        "numero= numero * 3 # el asterisco nos permite hacer una multiplicaion \n",
        "# tambien podemos utilizar numero *= 3\n",
        "print(\"El numero multiplicado es: \", numero)\n",
        "\n",
        "numero= 5.0\n",
        "numero = numero**2  # el doble astersico nos permite realizar potencias \n",
        "print (\"La potencia del numero es: \", numero)"
      ],
      "execution_count": null,
      "outputs": []
    },
    {
      "cell_type": "markdown",
      "metadata": {
        "id": "lFOykFHZa5nf"
      },
      "source": [
        "Comentario: Posibilidad de poner descripciones al codigo, sirve para ir documentando el codigo.\n",
        "- import sys --> biblioteca que ayuda a saber el espcaio que ocupa la variable en la computadora \n",
        "- En C el dato INT ocupa 16 bits\n",
        "- En C el dato FLOAT ocupa 36 bits\n",
        "- la mayoria de lenguajes de progrmaacion no permite operaciones entre diferentes tipos de datos\n",
        "\n",
        "# Tarea \n",
        "Hacer un resumen de minimo una cuartilla de los origenes del lenguaje Python, donde venga \n",
        "- el por que de su creacion\n",
        "- Caracteristicas principales\n",
        "- Diferencias con otrso lenguajes \n",
        "\n",
        "Forma de entrega: A mano, en un cuaderno, sacarle foto o escanear y subir la foto  "
      ]
    },
    {
      "cell_type": "code",
      "metadata": {
        "id": "03anmddClu5V"
      },
      "source": [
        "# operador modulo de al residuo de una div. entera \n",
        "numero =21\n",
        "print(numero/2)\n",
        "print(numero % 2)\n",
        "\n",
        "numero= 24\n",
        "print(numero/5)\n",
        "print(\"El residuo de 24/5 es: \",numero%5)\n",
        "\n",
        "print(numero%2==0)\n",
        "\n",
        "#Valores operacionaels\n",
        "\n",
        "#OP \"=\" sirve para comparar dos valores \n",
        "print(\"24 es igual a 23? \", numero == 23)\n",
        "\n",
        "#OP \"!=\" sirve para ver si n es diferente de m \n",
        "print(\"24 es diferente a 23? \", numero != 23)\n",
        "\n",
        "#OP \"<\" sirve para ver si n es menor que m\n",
        "print(\"24 es menor a 23? \", numero < 23)\n",
        "\n",
        "#OP \">\" sirve para ver si n es mayo a m\n",
        "print(\"24 es mayor a 23? \", numero > 23)\n",
        "\n",
        "#OP \"<=\" sirve para ver si n es menor o igual a m\n",
        "print(\"24 es menor o igual a 23? \", numero <= 23)\n",
        "\n",
        "#OP \">=\" sirve para ver si n es mayor o igual a m\n",
        "print(\"24 es mayo o igual a 23? \", numero >= 24)\n",
        "\n",
        "print(\"El tipo de dato de la varibale numero es: \",type(numero))\n",
        "print(\"El tipo de dato de la varibale numero/ 2.0 es: \",type(numero/2.0))"
      ],
      "execution_count": null,
      "outputs": []
    },
    {
      "cell_type": "markdown",
      "metadata": {
        "id": "Qv8J-rcZpkX-"
      },
      "source": [
        "# Tipo de dato String (str) en Python\n",
        "\n",
        "- Se maneja como un arreglo 8un tipo de dato compuesto).\n",
        "- Se puede acceder a los elementos de el string por medio del indice del caracter\n",
        "- Es mutable \n",
        "- Tiene metodos utiles (potentes)\n",
        "- Slicing\n",
        "\n"
      ]
    },
    {
      "cell_type": "code",
      "metadata": {
        "id": "Io44iEYaqIfa"
      },
      "source": [
        "nombre = 'José'# cuando es simple se recomienda''\n",
        "carrera = \"Ingenieria en computación\" # cuando es una frase mas larga se recomienda \"\"\n",
        "frase = \"\"\" El conocimiento \n",
        "me persigue...\n",
        "pero\n",
        "yo soy mas rápido\n",
        "\"\"\" # cuando son multiples lineas se recomienda \"\"\"..\"\"\"\n",
        "\n",
        "print(nombre)\n",
        "print(carrera)\n",
        "print(frase)\n",
        "\n",
        "# La funcion type de Python devuelve el tipo de dato que es una variable \n",
        "\n",
        "print(type(nombre))\n",
        "\n",
        "paterno = str(\"Perez\")\n",
        "print(paterno)"
      ],
      "execution_count": null,
      "outputs": []
    }
  ]
}