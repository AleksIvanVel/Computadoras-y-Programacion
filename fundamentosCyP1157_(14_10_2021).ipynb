{
  "nbformat": 4,
  "nbformat_minor": 0,
  "metadata": {
    "colab": {
      "name": "fundamentosCyP1157 (14-10-2021).ipynb",
      "provenance": [],
      "authorship_tag": "ABX9TyNg9OkJvf04jgJR2McZ3XYV",
      "include_colab_link": true
    },
    "kernelspec": {
      "name": "python3",
      "display_name": "Python 3"
    },
    "language_info": {
      "name": "python"
    }
  },
  "cells": [
    {
      "cell_type": "markdown",
      "metadata": {
        "id": "view-in-github",
        "colab_type": "text"
      },
      "source": [
        "<a href=\"https://colab.research.google.com/github/AleksIvanVel/Computadoras-y-Programacion/blob/main/fundamentosCyP1157_(14_10_2021).ipynb\" target=\"_parent\"><img src=\"https://colab.research.google.com/assets/colab-badge.svg\" alt=\"Open In Colab\"/></a>"
      ]
    },
    {
      "cell_type": "code",
      "metadata": {
        "id": "niqkcgpD-270"
      },
      "source": [
        "carrera = \"Ingenieria en computación\"\n",
        "print ( carrera )\n",
        "\n",
        "print(carrera[2])"
      ],
      "execution_count": null,
      "outputs": []
    },
    {
      "cell_type": "markdown",
      "metadata": {
        "id": "dthNtxpi_HSx"
      },
      "source": [
        "# a la sintaxis escrita para elegir un elemento de un gurpo de datos se le llama selector.\n",
        "\n",
        "En el caso de strings y listas (lst) se usan los caracteres '['y']'\n",
        "\n",
        "1. En todos los lenguajes de programacion, los arreglos inician en 0.\n",
        "2. En python no existe como tal el tipo de dato arreglo, el concepto es sustituido por las listas.\n",
        "3. Los string se comportan como un arreglo en la mayoria de los lenguajes \n",
        "4. En python se acepta el indxado negativo, en otros lenguajes NO.\n"
      ]
    },
    {
      "cell_type": "code",
      "metadata": {
        "id": "zpc9C7M6_KgN"
      },
      "source": [
        "carrera = \"Ingeniería en computación\"\n",
        "print(carrera[8])\n",
        "print(carrera[24])\n",
        "print(carrera[-1])\n",
        "print(carrera[-25])\n",
        "\n",
        "# Adelantando el tema FOR\n",
        "for letra in carrera:\n",
        "  print (\"-->\",letra, \"<--\" )"
      ],
      "execution_count": null,
      "outputs": []
    },
    {
      "cell_type": "markdown",
      "metadata": {
        "id": "kCMYz0hB_PiG"
      },
      "source": [
        "#Slicing (rebanado) de cadenas\n",
        "\n",
        "Permite seleccionar subcadenas con el operador \n",
        "###[inicio : stop : incremento]\n",
        "\n",
        "el stop no se ioncluye, es por eso que debemos agregar una posicion extra.\n",
        "\n",
        "### Slicing y valores por defecto\n",
        "- inicio por defecto siempre sera 0\n",
        "- stop: tamñano del arreglo (indexado positivo) y 0 (en indexado negativo)\n",
        "- incrmento: es 1 (indexado postivio)"
      ]
    },
    {
      "cell_type": "code",
      "metadata": {
        "id": "FuH2cvfp_Rxh"
      },
      "source": [
        "carrera = \"Ingeniería en computación\"\n",
        "print( carrera [0 : 10 : 1])\n",
        "\n",
        "print( carrera [14 : 25 : 1])\n",
        "\n",
        "#solucion previa \n",
        "print( \"-----------\")\n",
        "print( carrera [-11 : -1: 1])\n",
        "\n",
        "#solucion para indexado negativo \n",
        "print( \"-----------\")\n",
        "print( carrera [-11 :  : 1])\n",
        "\n",
        "\n",
        "# ejercico para incremento \n",
        "print( carrera[0:10:2])\n",
        "print( carrera[-1:-12:-2])"
      ],
      "execution_count": null,
      "outputs": []
    },
    {
      "cell_type": "markdown",
      "metadata": {
        "id": "vvo3fZxs_UR-"
      },
      "source": [
        "# String y sus metodos \n",
        "# Todos los tipos de datos en python son objetos (de la POO), por lo que cada uno tiene atributos y metodos \n",
        "## dir() y help() (funciones para obtener ayuda del lenguaje Python)\n",
        "\n",
        "- dir () muestra las funciones de un tipo de dato en resumen\n",
        "- hel () muestra la misma ayuda pero a detalle \n",
        "\n",
        "Los metodos que inician con \"__\" son privados, de uso interno de la clase y no deberiamos usarlos "
      ]
    },
    {
      "cell_type": "code",
      "metadata": {
        "id": "_7WngQ3A_XEx"
      },
      "source": [
        "frutas = \"  limon , fresa,  manzana , aguacate\"\n",
        "nombre = \"jose\"\n",
        "print(frutas)\n",
        "\n",
        "print(\"------------------------------\")\n",
        "print( nombre.capitalize() )\n",
        "\n",
        "print(\"------------------------------\")\n",
        "print( nombre.upper() )\n",
        "\n",
        "print(\"------------------------------\")\n",
        "print( frutas.replace('a' , '4').replace('e' , '3').upper() )\n",
        "\n",
        "#para guardar permanentemente las operaciones se relaiza lo siguiente...\n",
        "frutas = frutas.replace('a' , '4').replace('e' , '3').upper() \n",
        "print(frutas)\n",
        "print(\"------------------------------\")\n",
        "\n",
        "\n",
        "frutas = \"limon , fresa,  manzana , aguacate\"\n",
        "print( frutas.strip() )\n",
        "print(\"------------------------------\")\n",
        "\n",
        "print(frutas.split(','))\n",
        "print(\"------------------------------\")\n",
        "\n",
        "print(\"la letra n está en la pocision\", frutas.index(\"n\"))"
      ],
      "execution_count": null,
      "outputs": []
    },
    {
      "cell_type": "markdown",
      "metadata": {
        "id": "NoxDgP6m_baz"
      },
      "source": [
        "# String y caracteres de escape \n",
        "\n",
        "- \\\" --> \"\n",
        "- \\' --> '\n",
        "- \\n --> salto de linea, tecla enter\n",
        "- \\t --> tabulador, espacios a la izquierda \n",
        "- \\uxxxx --> caraccteres unicode\n",
        "- \\Uxxxxxx --> unicosde extendido "
      ]
    },
    {
      "cell_type": "code",
      "metadata": {
        "id": "d1Jn7rzu_ezV"
      },
      "source": [
        "print(\" \\\"jose\\\" \")\n",
        "\n",
        "nombre = \" \\\"jose\\\" \"\n",
        "print (nombre)\n",
        "\n",
        "#salto de linea\n",
        "carrera = \"Ingeniería \\nen \\ncomputación\"\n",
        "print (carrera)\n",
        "\n",
        "#tabulador\n",
        "carrera = \"Ingeniería \\n\\ten \\n\\t\\tcomputación\"\n",
        "print (carrera)"
      ],
      "execution_count": null,
      "outputs": []
    }
  ]
}