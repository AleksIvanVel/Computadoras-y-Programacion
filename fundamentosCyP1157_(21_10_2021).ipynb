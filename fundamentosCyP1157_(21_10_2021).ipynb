{
  "nbformat": 4,
  "nbformat_minor": 0,
  "metadata": {
    "colab": {
      "name": "fundamentosCyP1157 (21-10-2021).ipynb",
      "provenance": [],
      "authorship_tag": "ABX9TyNVeGk7yssTsh4py+HfWJeJ",
      "include_colab_link": true
    },
    "kernelspec": {
      "name": "python3",
      "display_name": "Python 3"
    },
    "language_info": {
      "name": "python"
    }
  },
  "cells": [
    {
      "cell_type": "markdown",
      "metadata": {
        "id": "view-in-github",
        "colab_type": "text"
      },
      "source": [
        "<a href=\"https://colab.research.google.com/github/AleksIvanVel/Computadoras-y-Programacion/blob/main/fundamentosCyP1157_(21_10_2021).ipynb\" target=\"_parent\"><img src=\"https://colab.research.google.com/assets/colab-badge.svg\" alt=\"Open In Colab\"/></a>"
      ]
    },
    {
      "cell_type": "markdown",
      "metadata": {
        "id": "mzHyjld10WRf"
      },
      "source": [
        "# String y caracteres de escape \n",
        "\n",
        "-  \\\" --> \"\n",
        "-  \\' --> '\n",
        "- \\n --> salto de linea, tecla enter\n",
        "- \\t --> tabulador, espacios a la izquierda \n",
        "- \\uxxxx --> caraccteres unicode\n",
        "- \\Uxxxxxx --> unicosde extendido "
      ]
    },
    {
      "cell_type": "code",
      "metadata": {
        "colab": {
          "base_uri": "https://localhost:8080/"
        },
        "id": "x_XBLvIW0CnE",
        "outputId": "bcf0790a-6cb9-4487-8838-3b74159453c2"
      },
      "source": [
        "print(\"\\u003C\") #latín básico\n",
        "print(\"\\u0444\") #cirilico\n",
        "print(\"\\U0001F60D\") # rellenar con 0 a la izquierda si son menos de 8 digitos\n",
        "print(\"\\U0001F9A0\")\n",
        "print(\"\\U00010057\")\n",
        "print(\"\\U0001F918\")\n",
        "print(\"\\U0001F940\")\n",
        "print(\"\\U0001F912\")\n",
        "print(\"\\U0001F9FC\")"
      ],
      "execution_count": 1,
      "outputs": [
        {
          "output_type": "stream",
          "name": "stdout",
          "text": [
            "<\n",
            "ф\n",
            "😍\n",
            "🦠\n",
            "𐁗\n",
            "🤘\n",
            "🥀\n",
            "🤒\n",
            "🧼\n"
          ]
        }
      ]
    },
    {
      "cell_type": "markdown",
      "metadata": {
        "id": "WdVnLkWT0dBZ"
      },
      "source": [
        "# Función print\n",
        "\n",
        "### Se emplea para desplegar información en la salida estandar. Normalmente un monitor.\n",
        "\n",
        "- Formas de usar print.\n",
        "- el argumento por defecto de print (end).\n",
        "- format().\n",
        "- operador f\" \""
      ]
    },
    {
      "cell_type": "code",
      "metadata": {
        "colab": {
          "base_uri": "https://localhost:8080/"
        },
        "id": "R4b72fjv0cHc",
        "outputId": "5f6286ed-f1e0-414b-9767-7bf2d7a9f3d8"
      },
      "source": [
        "nombre = \"Aleks\"\n",
        "edad= 17\n",
        "soltero = True\n",
        "estatura = 1.70\n",
        "\"\"\"\n",
        "Nombre: Aeks\n",
        "  Edad:18\n",
        "  Esta soltero: True\n",
        "  Estatura en metros: 1.70\n",
        "\"\"\"\n",
        "#las comas agregan espacio, concatenacion haciendo un casting\n",
        "print(nombre, edad, soltero, estatura)\n",
        "\n",
        "print(\"Nombre: \"+nombre+ \"\\n\\tEdad: \"+ str(edad)+ \"\\n\\tEsta soltero: \"+str(soltero)+ \"\\n\\tEstatura en metros: \"+ str(estatura))\n",
        "\n",
        "#con el simbolo \"+\" hacemos una concatenacion instantena\n",
        "#no hay espacios_hay que covertirlos en string (usar comillas para espacio)\n",
        "print( nombre+ \" \" +str(edad) + \" \" +str(soltero) + \" \" +str(estatura) )\n",
        "\n",
        "#damos formato a la salida con \"format\"\n",
        "#trabajar con indices sirve para cambiar el orden del resultado\n",
        "print(\"\\nCon la funcion format() = \")\n",
        "print(\"Nombre: {0}\\n\\tEdad: {1}\\n\\tEsta soltero: {2}\\n\\tEstatura en metros: {3}\". format (nombre,edad,soltero,estatura))\n",
        "print(\"Nombre: {0}\\n\\tEdad: {1}\\n\\tEsta soltero: {2}\\n\\tEstatura en metros: {3}\". format (nombre,edad,soltero,estatura))\n",
        "print(\"------------------\")\n",
        "\n",
        "#con el operador \"f\"\n",
        "print(f\"Nombre: { nombre }\\n\\tEdad: { edad }\\n\\tEsta soltero: { soltero }\\n\\tEstatura en metros: { estatura }\")\n",
        "print(\"----------------\")\n",
        "\n",
        "#como manejar el argumento end\n",
        "print(f\"Hola {nombre}\" , end=\"\\n\")\n",
        "print(\", ¿Cómo estás?\" , end=\"\\n\")\n",
        "\n",
        "print(f\"Hola {nombre}\" , end=\"\\t\")\n",
        "print(\", ¿Cómo estás?\" , end=\"\\t\")\n",
        "print(\"\\n\")\n",
        "print(f\"Hola {nombre}\" , end=\"\")\n",
        "print(\", ¿Cómo estás?\" , end=\"\\n\")"
      ],
      "execution_count": 21,
      "outputs": [
        {
          "output_type": "stream",
          "name": "stdout",
          "text": [
            "Aleks 17 True 1.7\n",
            "Nombre: Aleks\n",
            "\tEdad: 17\n",
            "\tEsta soltero: True\n",
            "\tEstatura en metros: 1.7\n",
            "Aleks 17 True 1.7\n",
            "\n",
            "Con la funcion format() = \n",
            "Nombre: Aleks\n",
            "\tEdad: 17\n",
            "\tEsta soltero: True\n",
            "\tEstatura en metros: 1.7\n",
            "Nombre: Aleks\n",
            "\tEdad: 17\n",
            "\tEsta soltero: True\n",
            "\tEstatura en metros: 1.7\n",
            "------------------\n",
            "Nombre: Aleks\n",
            "\tEdad: 17\n",
            "\tEsta soltero: True\n",
            "\tEstatura en metros: 1.7\n",
            "----------------\n",
            "Hola Aleks\n",
            ", ¿Cómo estás?\n",
            "Hola Aleks\t, ¿Cómo estás?\t\n",
            "\n",
            "Hola Aleks, ¿Cómo estás?\n"
          ]
        }
      ]
    },
    {
      "cell_type": "markdown",
      "metadata": {
        "id": "7pRQ2fkf54bZ"
      },
      "source": [
        "#Tarea \n",
        "## con una sola función, su primer nombre (nombre de pila) así....\n",
        "\n",
        "      A\n",
        "     A A\n",
        "    A   A\n",
        "   A     A\n",
        "  A A A A A    (PRINT POR LETRA) MINIMO\n",
        " A         A\n",
        "A           A\n",
        "\n",
        "L\n",
        "L\n",
        "L\n",
        "L\n",
        "L\n",
        "LLLLLLLLLL\n",
        "\n",
        "EEEEEEEEEE\n",
        "E\n",
        "E\n",
        "EEEEEEE\n",
        "E\n",
        "E\n",
        "EEEEEEEEEE\n",
        "\n"
      ]
    }
  ]
}